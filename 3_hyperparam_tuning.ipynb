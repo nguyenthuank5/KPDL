{
 "cells": [
  {
   "cell_type": "markdown",
   "id": "9f71f27b",
   "metadata": {},
   "source": [
    "# Hyperparameter Tuning\n",
    "\n",
    "Tối ưu siêu tham số cho các mô hình baseline bằng GridSearchCV và RandomizedSearchCV.\n"
   ]
  },
  {
   "cell_type": "code",
   "execution_count": 1,
   "id": "0cdfed9a",
   "metadata": {},
   "outputs": [],
   "source": [
    "# Import thư viện\n",
    "import pandas as pd, numpy as np, pickle\n",
    "from sklearn.model_selection import train_test_split, GridSearchCV, RandomizedSearchCV\n",
    "from sklearn.preprocessing import LabelEncoder, StandardScaler\n",
    "from sklearn.linear_model import LogisticRegression\n",
    "from sklearn.ensemble import RandomForestClassifier\n",
    "from sklearn.svm import SVC\n",
    "from xgboost import XGBClassifier\n",
    "from sklearn.metrics import accuracy_score\n"
   ]
  },
  {
   "cell_type": "markdown",
   "id": "fc53097f",
   "metadata": {},
   "source": [
    "## 1. Load & Tiền xử lý dữ liệu\n"
   ]
  },
  {
   "cell_type": "code",
   "execution_count": 2,
   "id": "3ac5c0cb",
   "metadata": {},
   "outputs": [
    {
     "name": "stderr",
     "output_type": "stream",
     "text": [
      "C:\\Users\\thanh\\AppData\\Local\\Temp\\ipykernel_10868\\1871669384.py:4: FutureWarning: A value is trying to be set on a copy of a DataFrame or Series through chained assignment using an inplace method.\n",
      "The behavior will change in pandas 3.0. This inplace method will never work because the intermediate object on which we are setting values always behaves as a copy.\n",
      "\n",
      "For example, when doing 'df[col].method(value, inplace=True)', try using 'df.method({col: value}, inplace=True)' or df[col] = df[col].method(value) instead, to perform the operation inplace on the original object.\n",
      "\n",
      "\n",
      "  train[\"Age\"].fillna(train[\"Age\"].median(), inplace=True)\n",
      "C:\\Users\\thanh\\AppData\\Local\\Temp\\ipykernel_10868\\1871669384.py:5: FutureWarning: A value is trying to be set on a copy of a DataFrame or Series through chained assignment using an inplace method.\n",
      "The behavior will change in pandas 3.0. This inplace method will never work because the intermediate object on which we are setting values always behaves as a copy.\n",
      "\n",
      "For example, when doing 'df[col].method(value, inplace=True)', try using 'df.method({col: value}, inplace=True)' or df[col] = df[col].method(value) instead, to perform the operation inplace on the original object.\n",
      "\n",
      "\n",
      "  train[\"Embarked\"].fillna(train[\"Embarked\"].mode()[0], inplace=True)\n"
     ]
    }
   ],
   "source": [
    "train = pd.read_csv(\"train.csv\")\n",
    "\n",
    "# Xử lý thiếu\n",
    "train[\"Age\"].fillna(train[\"Age\"].median(), inplace=True)\n",
    "train[\"Embarked\"].fillna(train[\"Embarked\"].mode()[0], inplace=True)\n",
    "\n",
    "# Mã hóa biến phân loại\n",
    "train[\"Sex\"] = LabelEncoder().fit_transform(train[\"Sex\"])\n",
    "train[\"Embarked\"] = LabelEncoder().fit_transform(train[\"Embarked\"])\n",
    "\n",
    "# Chia đặc trưng và nhãn\n",
    "X = train.drop([\"Survived\", \"Name\", \"Ticket\", \"Cabin\", \"PassengerId\"], axis=1)\n",
    "y = train[\"Survived\"]\n",
    "\n",
    "# Chia train/validation\n",
    "X_train, X_val, y_train, y_val = train_test_split(X, y, test_size=0.2, random_state=42)\n",
    "\n",
    "# Chuẩn hóa dữ liệu\n",
    "scaler = StandardScaler()\n",
    "X_train = scaler.fit_transform(X_train)\n",
    "X_val = scaler.transform(X_val)\n"
   ]
  },
  {
   "cell_type": "markdown",
   "id": "21f7c272",
   "metadata": {},
   "source": [
    "## 2. Định nghĩa mô hình & tham số tuning\n"
   ]
  },
  {
   "cell_type": "code",
   "execution_count": 3,
   "id": "45ea37bc",
   "metadata": {},
   "outputs": [],
   "source": [
    "models = {\n",
    "    \"LogReg\": (LogisticRegression(max_iter=1000), {\"C\": [0.1, 1, 10]}),\n",
    "    \"RF\": (RandomForestClassifier(), {\"n_estimators\": [100, 200], \"max_depth\": [5, 10, None]}),\n",
    "    \"SVM\": (SVC(), {\"C\": [0.5, 1, 10], \"kernel\": [\"rbf\", \"linear\"]}),\n",
    "    \"XGB\": (XGBClassifier(use_label_encoder=False, eval_metric=\"logloss\"),\n",
    "            {\"n_estimators\": [100, 200], \"max_depth\": [3, 5], \"learning_rate\": [0.05, 0.1]})\n",
    "}\n"
   ]
  },
  {
   "cell_type": "markdown",
   "id": "336ad6d6",
   "metadata": {},
   "source": [
    "## 3. Tuning mô hình bằng RandomizedSearchCV\n"
   ]
  },
  {
   "cell_type": "code",
   "execution_count": 4,
   "id": "1ef98d65",
   "metadata": {},
   "outputs": [
    {
     "name": "stdout",
     "output_type": "stream",
     "text": [
      "Tuning LogReg ...\n"
     ]
    },
    {
     "name": "stderr",
     "output_type": "stream",
     "text": [
      "C:\\Users\\thanh\\AppData\\Roaming\\Python\\Python311\\site-packages\\sklearn\\model_selection\\_search.py:317: UserWarning: The total space of parameters 3 is smaller than n_iter=5. Running 3 iterations. For exhaustive searches, use GridSearchCV.\n",
      "  warnings.warn(\n"
     ]
    },
    {
     "name": "stdout",
     "output_type": "stream",
     "text": [
      "→ LogReg accuracy: 0.7989\n",
      "Tuning RF ...\n",
      "→ RF accuracy: 0.8045\n",
      "Tuning SVM ...\n",
      "→ SVM accuracy: 0.8156\n",
      "Tuning XGB ...\n",
      "→ XGB accuracy: 0.8156\n",
      "\n",
      "📊 Tổng hợp kết quả:\n",
      "LogReg: 0.7989\n",
      "RF: 0.8045\n",
      "SVM: 0.8156\n",
      "XGB: 0.8156\n",
      "\n",
      "✅ Best model: SVC → 0.8156\n"
     ]
    },
    {
     "name": "stderr",
     "output_type": "stream",
     "text": [
      "C:\\Users\\thanh\\AppData\\Roaming\\Python\\Python311\\site-packages\\xgboost\\training.py:199: UserWarning: [21:21:34] WARNING: C:\\actions-runner\\_work\\xgboost\\xgboost\\src\\learner.cc:790: \n",
      "Parameters: { \"use_label_encoder\" } are not used.\n",
      "\n",
      "  bst.update(dtrain, iteration=i, fobj=obj)\n"
     ]
    }
   ],
   "source": [
    "results = {}\n",
    "best_model, best_score = None, 0\n",
    "\n",
    "for name, (model, params) in models.items():\n",
    "    print(f\"Tuning {name} ...\")\n",
    "    gs = RandomizedSearchCV(model, params, n_iter=5, cv=3, scoring=\"accuracy\", n_jobs=-1)\n",
    "    gs.fit(X_train, y_train)\n",
    "    pred = gs.predict(X_val)\n",
    "    acc = accuracy_score(y_val, pred)\n",
    "    results[name] = acc\n",
    "    print(f\"→ {name} accuracy: {acc:.4f}\")\n",
    "    \n",
    "    if acc > best_score:\n",
    "        best_score, best_model = acc, gs.best_estimator_\n",
    "\n",
    "print(\"\\n📊 Tổng hợp kết quả:\")\n",
    "for k, v in results.items():\n",
    "    print(f\"{k}: {v:.4f}\")\n",
    "\n",
    "print(\"\\n✅ Best model:\", best_model.__class__.__name__, \"→\", round(best_score, 4))\n"
   ]
  },
  {
   "cell_type": "markdown",
   "id": "042b6986",
   "metadata": {},
   "source": [
    "## 4. Lưu mô hình tốt nhất\n"
   ]
  },
  {
   "cell_type": "code",
   "execution_count": 5,
   "id": "1f3cff2b",
   "metadata": {},
   "outputs": [
    {
     "name": "stdout",
     "output_type": "stream",
     "text": [
      "✅ Saved best model → best_model.pkl\n"
     ]
    }
   ],
   "source": [
    "with open(\"best_model.pkl\", \"wb\") as f:\n",
    "    pickle.dump(best_model, f)\n",
    "\n",
    "print(\"✅ Saved best model → best_model.pkl\")\n"
   ]
  }
 ],
 "metadata": {
  "kernelspec": {
   "display_name": "Python 3",
   "language": "python",
   "name": "python3"
  },
  "language_info": {
   "codemirror_mode": {
    "name": "ipython",
    "version": 3
   },
   "file_extension": ".py",
   "mimetype": "text/x-python",
   "name": "python",
   "nbconvert_exporter": "python",
   "pygments_lexer": "ipython3",
   "version": "3.11.9"
  }
 },
 "nbformat": 4,
 "nbformat_minor": 5
}
