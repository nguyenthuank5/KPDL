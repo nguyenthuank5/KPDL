{
  "nbformat": 4,
  "nbformat_minor": 0,
  "metadata": {
    "colab": {
      "provenance": []
    },
    "kernelspec": {
      "name": "python3",
      "display_name": "Python 3"
    },
    "language_info": {
      "name": "python"
    }
  },
  "cells": [
    {
      "cell_type": "code",
      "execution_count": 47,
      "metadata": {
        "id": "3OVVZ-fpe9ep"
      },
      "outputs": [],
      "source": [
        "import pandas as pd\n",
        "from sklearn.model_selection import train_test_split\n",
        "from sklearn.preprocessing import StandardScaler, LabelEncoder\n",
        "from sklearn.metrics import accuracy_score, confusion_matrix, classification_report\n",
        "from sklearn.linear_model import LogisticRegression\n",
        "from sklearn.tree import DecisionTreeClassifier\n",
        "from sklearn.ensemble import RandomForestClassifier\n",
        "from sklearn.svm import SVC\n",
        "from sklearn.neighbors import KNeighborsClassifier"
      ]
    },
    {
      "cell_type": "markdown",
      "source": [
        "#  1. Đọc dữ liệu\n",
        "Ngày 27/10/2025 2:54 PM\n",
        "\n",
        "Đọc dữ liệu đầu vào (ở đây là bộ dữ liệu Titanic) từ file train.csv để đưa vào quá trình xử lý, huấn luyện và đánh giá mô hình"
      ],
      "metadata": {
        "id": "rvvtvb77fDib"
      }
    },
    {
      "cell_type": "code",
      "source": [
        "data = pd.read_csv(\"train.csv\")"
      ],
      "metadata": {
        "id": "60vcdMqmfHev"
      },
      "execution_count": 48,
      "outputs": []
    },
    {
      "cell_type": "markdown",
      "source": [
        "#  Xác định cột nhãn (thay 'target' bằng tên cột thực tế của bạn)\n",
        "Ngày 27/10/2025 2:55 PM\n",
        "\n",
        "Tách dữ liệu thành biến độc lập (features) và biến mục tiêu (target variable) để chuẩn bị cho quá trình huấn luyện mô hình:\n",
        "\n",
        "target_col = 'Survived':\n",
        "Xác định cột đích (biến mục tiêu) là “Survived”, biểu thị hành vi cần dự đoán (0 = không sống sót, 1 = sống sót).\n",
        "\n",
        "X = data.drop(columns=[target_col]):\n",
        "Lưu toàn bộ các đặc trưng đầu vào (features) — tức là những cột dùng để dự đoán kết quả (như Age, Sex, Fare,...).\n",
        "\n",
        "y = data[target_col]:\n",
        "Lưu biến mục tiêu (label) mà mô hình sẽ học để dự đoán."
      ],
      "metadata": {
        "id": "a3SwSvU0fOV8"
      }
    },
    {
      "cell_type": "code",
      "source": [
        "target_col = 'Survived'\n",
        "X = data.drop(columns=[target_col])\n",
        "y = data[target_col]"
      ],
      "metadata": {
        "id": "Bwt_EFNFfOxa"
      },
      "execution_count": 49,
      "outputs": []
    },
    {
      "cell_type": "markdown",
      "source": [
        "Mục tiêu của đoạn code này là tách dữ liệu thành hai phần:\n",
        "\n",
        "Biến đầu vào (X) – chứa các đặc trưng (features) dùng để dự đoán.\n",
        "\n",
        "Biến đầu ra (y) – chứa giá trị mục tiêu (target) mà mô hình cần dự đoán."
      ],
      "metadata": {
        "id": "zV_HSgtItgpy"
      }
    },
    {
      "cell_type": "markdown",
      "source": [
        "# Nếu nhãn là dạng chữ, ta mã hóa lại\n",
        "Ngày 27/10/2025 2:56 PM\n",
        "\n",
        "Mục tiêu của đoạn code này là chuyển đổi các nhãn (label) trong biến mục tiêu y từ dạng chuỗi (categorical) sang dạng số (numeric) để các mô hình học máy có thể xử lý được."
      ],
      "metadata": {
        "id": "UEb33fR3fpmi"
      }
    },
    {
      "cell_type": "code",
      "source": [
        "if y.dtype == 'object':\n",
        "    y = LabelEncoder().fit_transform(y)"
      ],
      "metadata": {
        "id": "agpteCyAfqdg"
      },
      "execution_count": 50,
      "outputs": []
    },
    {
      "cell_type": "markdown",
      "source": [
        "#  2. Xử lý dữ liệu"
      ],
      "metadata": {
        "id": "zaVFBvbKgFgc"
      }
    },
    {
      "cell_type": "markdown",
      "source": [
        "# Bỏ cột không cần thiết\n",
        "Ngày 27/10/2025 2:58 PM\n",
        "\n",
        "Mục tiêu của đoạn code này là loại bỏ các cột không cần thiết hoặc không có giá trị dự đoán rõ ràng trong quá trình huấn luyện mô hình.\n",
        "Những cột này thường mang tính định danh, mô tả hoặc chứa nhiều giá trị thiếu, nên không giúp ích cho việc học của mô hình."
      ],
      "metadata": {
        "id": "NqPGr0XNgHSH"
      }
    },
    {
      "cell_type": "code",
      "source": [
        "data = data.drop(columns=[\"PassengerId\", \"Name\", \"Ticket\", \"Cabin\"])"
      ],
      "metadata": {
        "id": "xgY4KLctgI-J"
      },
      "execution_count": 51,
      "outputs": []
    },
    {
      "cell_type": "markdown",
      "source": [
        "# Điền giá trị thiếu\n",
        "Ngày 27/10/2025 2:59 PM\n",
        "\n",
        "Mục tiêu của đoạn code này là xử lý các giá trị bị thiếu (NaN) trong hai cột \"Age\" và \"Embarked\" bằng cách thay thế chúng bằng giá trị phù hợp nhất, giúp mô hình có thể huấn luyện trơn tru mà không gặp lỗi."
      ],
      "metadata": {
        "id": "51r54a9LgKxL"
      }
    },
    {
      "cell_type": "code",
      "source": [
        "data[\"Age\"].fillna(data[\"Age\"].median(), inplace=True)\n",
        "data[\"Embarked\"].fillna(data[\"Embarked\"].mode()[0], inplace=True)"
      ],
      "metadata": {
        "colab": {
          "base_uri": "https://localhost:8080/"
        },
        "id": "Z_1j-Y97gMOh",
        "outputId": "e600fac8-10c5-4cf8-980c-23cce1e10559"
      },
      "execution_count": 52,
      "outputs": [
        {
          "output_type": "stream",
          "name": "stderr",
          "text": [
            "/tmp/ipython-input-1414317196.py:1: FutureWarning: A value is trying to be set on a copy of a DataFrame or Series through chained assignment using an inplace method.\n",
            "The behavior will change in pandas 3.0. This inplace method will never work because the intermediate object on which we are setting values always behaves as a copy.\n",
            "\n",
            "For example, when doing 'df[col].method(value, inplace=True)', try using 'df.method({col: value}, inplace=True)' or df[col] = df[col].method(value) instead, to perform the operation inplace on the original object.\n",
            "\n",
            "\n",
            "  data[\"Age\"].fillna(data[\"Age\"].median(), inplace=True)\n",
            "/tmp/ipython-input-1414317196.py:2: FutureWarning: A value is trying to be set on a copy of a DataFrame or Series through chained assignment using an inplace method.\n",
            "The behavior will change in pandas 3.0. This inplace method will never work because the intermediate object on which we are setting values always behaves as a copy.\n",
            "\n",
            "For example, when doing 'df[col].method(value, inplace=True)', try using 'df.method({col: value}, inplace=True)' or df[col] = df[col].method(value) instead, to perform the operation inplace on the original object.\n",
            "\n",
            "\n",
            "  data[\"Embarked\"].fillna(data[\"Embarked\"].mode()[0], inplace=True)\n"
          ]
        }
      ]
    },
    {
      "cell_type": "markdown",
      "source": [
        "# Mã hóa cột chữ\n",
        "Ngày 27/10/2025 3:00 PM\n",
        "\n",
        "Mục tiêu của đoạn code này là chuyển đổi các giá trị dạng chuỗi (categorical variables) trong hai cột \"Sex\" và \"Embarked\" thành giá trị số (numeric) để mô hình học máy có thể xử lý được."
      ],
      "metadata": {
        "id": "KDPXspC6gOT1"
      }
    },
    {
      "cell_type": "code",
      "source": [
        "label_enc = LabelEncoder()\n",
        "data[\"Sex\"] = label_enc.fit_transform(data[\"Sex\"])\n",
        "data[\"Embarked\"] = label_enc.fit_transform(data[\"Embarked\"])"
      ],
      "metadata": {
        "id": "uJQOKNywgP13"
      },
      "execution_count": 53,
      "outputs": []
    },
    {
      "cell_type": "markdown",
      "source": [
        "#  3. Chia dữ liệu\n",
        "Ngày 27/10/2025 3:02 PM\n",
        "\n",
        "Mục tiêu của đoạn code này là tách dữ liệu thành hai phần:\n",
        "\n",
        "Tập huấn luyện (training set): dùng để “dạy” mô hình học cách dự đoán.\n",
        "\n",
        "Tập kiểm tra (test set): dùng để đánh giá độ chính xác của mô hình trên dữ liệu chưa thấy trước đó."
      ],
      "metadata": {
        "id": "K3gO2HQbgU7I"
      }
    },
    {
      "cell_type": "code",
      "source": [
        "X = data.drop(columns=[\"Survived\"])\n",
        "y = data[\"Survived\"]\n",
        "\n",
        "X_train, X_test, y_train, y_test = train_test_split(X, y, test_size=0.2, random_state=42)"
      ],
      "metadata": {
        "id": "67nOZglUgX5Y"
      },
      "execution_count": 54,
      "outputs": []
    },
    {
      "cell_type": "markdown",
      "source": [
        "#  4. Chuẩn hóa\n",
        "Ngày 27/10/2025 3:03 PM\n",
        "\n",
        "Mục tiêu của đoạn code này là chuẩn hóa (scale) các đặc trưng đầu vào sao cho chúng có trung bình bằng 0 và độ lệch chuẩn bằng 1, giúp các mô hình học máy hoạt động hiệu quả và ổn định hơn."
      ],
      "metadata": {
        "id": "Y7HBtVIrgfCf"
      }
    },
    {
      "cell_type": "code",
      "source": [
        "scaler = StandardScaler()\n",
        "X_train_scaled = scaler.fit_transform(X_train)\n",
        "X_test_scaled = scaler.transform(X_test)"
      ],
      "metadata": {
        "id": "ls7YwU3sggsY"
      },
      "execution_count": 55,
      "outputs": []
    },
    {
      "cell_type": "markdown",
      "source": [
        "# 5. Các mô hình\n",
        "Ngày 27/10/2025 3:05 PM\n",
        "\n",
        "Mục tiêu của đoạn code này là khởi tạo và lưu trữ nhiều mô hình học máy khác nhau trong một từ điển (dictionary) để so sánh hiệu năng của chúng trên cùng một tập dữ liệu."
      ],
      "metadata": {
        "id": "7xjH-g2SgijH"
      }
    },
    {
      "cell_type": "code",
      "source": [
        "models = {\n",
        "    \"Logistic Regression\": LogisticRegression(max_iter=1000),\n",
        "    \"Decision Tree\": DecisionTreeClassifier(random_state=42),\n",
        "    \"Random Forest\": RandomForestClassifier(random_state=42),\n",
        "    \"SVM\": SVC(probability=True, random_state=42),\n",
        "    \"KNN\": KNeighborsClassifier()\n",
        "}"
      ],
      "metadata": {
        "id": "aXEri7IYgi7I"
      },
      "execution_count": 56,
      "outputs": []
    },
    {
      "cell_type": "markdown",
      "source": [
        "#  6. Huấn luyện và đánh giá\n",
        "Ngày 27/10/2025 3:05 PM\n",
        "\n",
        "Mục tiêu của đoạn code này là huấn luyện các mô hình đã khởi tạo, sau đó đánh giá hiệu suất của từng mô hình bằng cách đo độ chính xác (Accuracy), ma trận nhầm lẫn (Confusion Matrix) và báo cáo phân loại (Classification Report).\n",
        "Kết quả của từng mô hình được lưu vào dictionary results để dễ so sánh."
      ],
      "metadata": {
        "id": "pZQUNaI9gmHO"
      }
    },
    {
      "cell_type": "code",
      "source": [
        "results = {}\n",
        "\n",
        "for name, model in models.items():\n",
        "    if name in [\"Logistic Regression\", \"SVM\", \"KNN\"]:\n",
        "        model.fit(X_train_scaled, y_train)\n",
        "        y_pred = model.predict(X_test_scaled)\n",
        "    else:\n",
        "        model.fit(X_train, y_train)\n",
        "        y_pred = model.predict(X_test)\n",
        "\n",
        "    acc = accuracy_score(y_test, y_pred)\n",
        "    results[name] = acc\n",
        "    print(\"=\"*40)\n",
        "    print(f\"🔹 {name}\")\n",
        "    print(f\"Độ chính xác: {acc:.4f}\")\n",
        "    print(\"Confusion Matrix:\")\n",
        "    print(confusion_matrix(y_test, y_pred))\n",
        "    print(\"Báo cáo phân loại:\")\n",
        "    print(classification_report(y_test, y_pred))"
      ],
      "metadata": {
        "colab": {
          "base_uri": "https://localhost:8080/"
        },
        "id": "ArxVv1vZgmft",
        "outputId": "c6b7a2b1-735f-446c-8bc5-9516604da19f"
      },
      "execution_count": 57,
      "outputs": [
        {
          "output_type": "stream",
          "name": "stdout",
          "text": [
            "========================================\n",
            "🔹 Logistic Regression\n",
            "Độ chính xác: 0.8045\n",
            "Confusion Matrix:\n",
            "[[90 15]\n",
            " [20 54]]\n",
            "Báo cáo phân loại:\n",
            "              precision    recall  f1-score   support\n",
            "\n",
            "           0       0.82      0.86      0.84       105\n",
            "           1       0.78      0.73      0.76        74\n",
            "\n",
            "    accuracy                           0.80       179\n",
            "   macro avg       0.80      0.79      0.80       179\n",
            "weighted avg       0.80      0.80      0.80       179\n",
            "\n",
            "========================================\n",
            "🔹 Decision Tree\n",
            "Độ chính xác: 0.7821\n",
            "Confusion Matrix:\n",
            "[[83 22]\n",
            " [17 57]]\n",
            "Báo cáo phân loại:\n",
            "              precision    recall  f1-score   support\n",
            "\n",
            "           0       0.83      0.79      0.81       105\n",
            "           1       0.72      0.77      0.75        74\n",
            "\n",
            "    accuracy                           0.78       179\n",
            "   macro avg       0.78      0.78      0.78       179\n",
            "weighted avg       0.79      0.78      0.78       179\n",
            "\n",
            "========================================\n",
            "🔹 Random Forest\n",
            "Độ chính xác: 0.8212\n",
            "Confusion Matrix:\n",
            "[[92 13]\n",
            " [19 55]]\n",
            "Báo cáo phân loại:\n",
            "              precision    recall  f1-score   support\n",
            "\n",
            "           0       0.83      0.88      0.85       105\n",
            "           1       0.81      0.74      0.77        74\n",
            "\n",
            "    accuracy                           0.82       179\n",
            "   macro avg       0.82      0.81      0.81       179\n",
            "weighted avg       0.82      0.82      0.82       179\n",
            "\n",
            "========================================\n",
            "🔹 SVM\n",
            "Độ chính xác: 0.8156\n",
            "Confusion Matrix:\n",
            "[[93 12]\n",
            " [21 53]]\n",
            "Báo cáo phân loại:\n",
            "              precision    recall  f1-score   support\n",
            "\n",
            "           0       0.82      0.89      0.85       105\n",
            "           1       0.82      0.72      0.76        74\n",
            "\n",
            "    accuracy                           0.82       179\n",
            "   macro avg       0.82      0.80      0.81       179\n",
            "weighted avg       0.82      0.82      0.81       179\n",
            "\n",
            "========================================\n",
            "🔹 KNN\n",
            "Độ chính xác: 0.8045\n",
            "Confusion Matrix:\n",
            "[[90 15]\n",
            " [20 54]]\n",
            "Báo cáo phân loại:\n",
            "              precision    recall  f1-score   support\n",
            "\n",
            "           0       0.82      0.86      0.84       105\n",
            "           1       0.78      0.73      0.76        74\n",
            "\n",
            "    accuracy                           0.80       179\n",
            "   macro avg       0.80      0.79      0.80       179\n",
            "weighted avg       0.80      0.80      0.80       179\n",
            "\n"
          ]
        }
      ]
    },
    {
      "cell_type": "markdown",
      "source": [
        "#  7. Tổng kết\n",
        "Ngày 27/10/2025 3:06 PM\n",
        "\n",
        "Mục tiêu là tổng hợp và xuất kết quả đánh giá các mô hình học máy ra một file CSV (experiments_summary.csv) để dễ dàng lưu trữ, so sánh và trình bày trong báo cáo."
      ],
      "metadata": {
        "id": "HQUOUbFhgsCC"
      }
    },
    {
      "cell_type": "code",
      "source": [
        "print(\"\\n TỔNG HỢP KẾT QUẢ:\")\n",
        "for name, acc in results.items():\n",
        "    print(f\"{name:20s}: {acc:.4f}\")"
      ],
      "metadata": {
        "colab": {
          "base_uri": "https://localhost:8080/"
        },
        "id": "_SqPTHFvgsfu",
        "outputId": "c0847369-82ec-4a7b-c5e1-bb8c7f377e57"
      },
      "execution_count": 58,
      "outputs": [
        {
          "output_type": "stream",
          "name": "stdout",
          "text": [
            "\n",
            " TỔNG HỢP KẾT QUẢ:\n",
            "Logistic Regression : 0.8045\n",
            "Decision Tree       : 0.7821\n",
            "Random Forest       : 0.8212\n",
            "SVM                 : 0.8156\n",
            "KNN                 : 0.8045\n"
          ]
        }
      ]
    },
    {
      "cell_type": "code",
      "source": [
        "# Đây chính là dict bạn thu được:\n",
        "results = {\n",
        "    'Logistic Regression': 0.8044692737430168,\n",
        "    'Decision Tree': 0.7821229050279329,\n",
        "    'Random Forest': 0.8212290502793296,\n",
        "    'SVM': 0.8156424581005587,\n",
        "    'KNN': 0.8044692737430168\n",
        "}\n",
        "\n",
        "# Chuyển từ dict sang DataFrame đúng định dạng\n",
        "experiments_summary = pd.DataFrame(\n",
        "    list(results.items()),  # chuyển dict thành list các tuple\n",
        "    columns=['Model', 'Accuracy']  # đặt tên cột\n",
        ")\n",
        "\n",
        "# Xuất ra file CSV\n",
        "experiments_summary.to_csv(\"experiments_summary.csv\", index=False)\n",
        "\n",
        "print(\" Đã tạo file experiments_summary.csv thành công!\")\n",
        "print(experiments_summary)"
      ],
      "metadata": {
        "colab": {
          "base_uri": "https://localhost:8080/"
        },
        "id": "0kWnuKXskIx-",
        "outputId": "a9097db5-3dc3-48f0-c242-54b4c81d7905"
      },
      "execution_count": 59,
      "outputs": [
        {
          "output_type": "stream",
          "name": "stdout",
          "text": [
            " Đã tạo file experiments_summary.csv thành công!\n",
            "                 Model  Accuracy\n",
            "0  Logistic Regression  0.804469\n",
            "1        Decision Tree  0.782123\n",
            "2        Random Forest  0.821229\n",
            "3                  SVM  0.815642\n",
            "4                  KNN  0.804469\n"
          ]
        }
      ]
    }
  ]
}