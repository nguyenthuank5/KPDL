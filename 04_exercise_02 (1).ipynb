{
  "cells": [
    {
      "cell_type": "markdown",
      "id": "154c8525-a8b1-4532-8b8c-a6048596e61b",
      "metadata": {
        "id": "154c8525-a8b1-4532-8b8c-a6048596e61b"
      },
      "source": [
        "# Kỹ thuật lập trình Python"
      ]
    },
    {
      "cell_type": "markdown",
      "id": "bff7ceae-0971-41e5-9ad6-a25c303fecab",
      "metadata": {
        "id": "bff7ceae-0971-41e5-9ad6-a25c303fecab"
      },
      "source": [
        "## Làm quen với Numpy"
      ]
    },
    {
      "cell_type": "markdown",
      "id": "bda2fb69-42db-4a12-8b57-7b4815510961",
      "metadata": {
        "id": "bda2fb69-42db-4a12-8b57-7b4815510961"
      },
      "source": [
        "### Bài 1. Tính toán trên dãy số"
      ]
    },
    {
      "cell_type": "markdown",
      "id": "04e6a456-6793-4645-b159-426121c860a6",
      "metadata": {
        "id": "04e6a456-6793-4645-b159-426121c860a6"
      },
      "source": [
        "#### 1. Tạo một dãy số a có N phần tử (N = 10)"
      ]
    },
    {
      "cell_type": "code",
      "execution_count": 3,
      "id": "bac1a84b-a496-40c6-962e-97c0acaf7d8e",
      "metadata": {
        "id": "bac1a84b-a496-40c6-962e-97c0acaf7d8e",
        "outputId": "634e6a92-5491-4de8-cc9e-da6eff906706",
        "colab": {
          "base_uri": "https://localhost:8080/"
        }
      },
      "outputs": [
        {
          "output_type": "stream",
          "name": "stdout",
          "text": [
            "1. Tạo một dãy số a có N phần tử (N = 10)\n",
            "Day so a:  [120 183 160 175 145 162 190 160 152 162]\n"
          ]
        }
      ],
      "source": [
        "import numpy as np # Khai báo thư viện numpy\n",
        "\n",
        "print(\"1. Tạo một dãy số a có N phần tử (N = 10)\")\n",
        "N = 10\n",
        "a = np.array([120, 183, 160, 175, 145, 162, 190, 160, 152, 162], dtype=int)\n",
        "\n",
        "print(\"Day so a: \", a)"
      ]
    },
    {
      "cell_type": "markdown",
      "id": "4d85d8e2-16ff-42d1-acda-97e62736aaf6",
      "metadata": {
        "id": "4d85d8e2-16ff-42d1-acda-97e62736aaf6"
      },
      "source": [
        "#### 2. Các thao tác trên dãy số a\n",
        "(a) Bình phương các phần tử trong dãy số <br/>\n",
        "(b) Tìm số lượng các phần tử của dãy số <br/>\n",
        "(c) In ra giá trị lớn nhất, giá trị nhỏ nhất và giá trị trung bình <br/>\n",
        "(d) Tính phương sai của dãy số $\\sigma^2 = \\frac{\\sum{\\left(a_i - \\mu\\right)^2}}{N - 1}$ với $\\mu = \\frac{\\sum{a_i}}{N}$ và độ lệch chuẩn $var = \\sqrt{\\sigma^2}$"
      ]
    },
    {
      "cell_type": "code",
      "execution_count": 5,
      "id": "5d245b5b-90d5-48bf-b870-fc7c2deecd12",
      "metadata": {
        "id": "5d245b5b-90d5-48bf-b870-fc7c2deecd12",
        "outputId": "c3b674ae-2989-4cb7-8149-390bfccbddf5",
        "colab": {
          "base_uri": "https://localhost:8080/"
        }
      },
      "outputs": [
        {
          "output_type": "stream",
          "name": "stdout",
          "text": [
            "2. Các thao tác tính toán đơn giản với dãy số a\n",
            "a. Binh phuong a:  [14400 33489 25600 30625 21025 26244 36100 25600 23104 26244]\n",
            "\n",
            "b. Do dai a:  10\n",
            "\n",
            "c. Gia tri lon nhat: [190], gia tri nho nhat: [120], gia tri trung binh [160.9]\n",
            "\n",
            "d. Phuong sai: [ 354.29] va do lech chuan: [ 18.82]\n"
          ]
        }
      ],
      "source": [
        "print(\"2. Các thao tác tính toán đơn giản với dãy số a\")\n",
        "# a. Bình phương từng phần tử\n",
        "a2 = a**2\n",
        "\n",
        "# b. Độ dài của a\n",
        "na = len(a)\n",
        "\n",
        "print(\"a. Binh phuong a: \", a2)\n",
        "print(\"\\nb. Do dai a: \", na)\n",
        "\n",
        "# c. Giá trị lớn nhất, nhỏ nhất, trung bình\n",
        "v_max = np.max(a)\n",
        "v_min = np.min(a)\n",
        "v_avg = np.mean(a)\n",
        "\n",
        "print(f'\\nc. Gia tri lon nhat: [{v_max}], gia tri nho nhat: [{v_min}], gia tri trung binh [{v_avg}]')\n",
        "\n",
        "# d. Phương sai và độ lệch chuẩn\n",
        "v_sigma2 = np.var(a)\n",
        "v_var = np.std(a)\n",
        "print(f'\\nd. Phuong sai: [{v_sigma2: .2f}] va do lech chuan: [{v_var: .2f}]')"
      ]
    },
    {
      "cell_type": "markdown",
      "id": "1b582e22-cc99-4933-892b-e0d83672fb7f",
      "metadata": {
        "id": "1b582e22-cc99-4933-892b-e0d83672fb7f"
      },
      "source": [
        "#### 3. Toán tử trên hai dãy số\n",
        "(a) Tạo dãy số x có 10 phần tử từ 1 đến 10 (dùng hàm np.arange) <br/>\n",
        "(b) Liệt kê và đếm số lượng phần tử chẵn và lẻ có trong dãy a và x <br/>\n",
        "(c) Tính khoảng cách giữa các phần tử ở vị trí lẻ của mảng a và x với $s = \\sqrt{\\sum{\\left(a_i - x_i\\right)^2}}$ với $i$ lẻ<br/>\n",
        "(d) Tìm khoảng cách nhỏ nhất giữa tập a và x. Ví dụ: min({1, 3, 5}, {2, 10, 8}} = 1"
      ]
    },
    {
      "cell_type": "code",
      "execution_count": 6,
      "id": "1c6f51c1-ac3d-46a8-ab35-0d087877fb9d",
      "metadata": {
        "id": "1c6f51c1-ac3d-46a8-ab35-0d087877fb9d",
        "outputId": "8a52c05d-4e43-428b-d34b-8fcf8904685f",
        "colab": {
          "base_uri": "https://localhost:8080/"
        }
      },
      "outputs": [
        {
          "output_type": "stream",
          "name": "stdout",
          "text": [
            "3. Xử lý khác trên dãy số\n",
            "a. Day so x: [ 1  2  3  4  5  6  7  8  9 10]\n"
          ]
        }
      ],
      "source": [
        "print(\"3. Xử lý khác trên dãy số\")\n",
        "# a. Tạo dãy số x = [1, 2, ..., 10]\n",
        "x = np.arange(1, 11)\n",
        "print(f'a. Day so x: {x}')"
      ]
    },
    {
      "cell_type": "code",
      "execution_count": 7,
      "id": "13211d38-0008-49ba-ac7b-c4ea034d12f4",
      "metadata": {
        "id": "13211d38-0008-49ba-ac7b-c4ea034d12f4",
        "outputId": "9fa8d4e5-7b8a-4fec-9dcd-ac0d75c61c79",
        "colab": {
          "base_uri": "https://localhost:8080/"
        }
      },
      "outputs": [
        {
          "output_type": "stream",
          "name": "stdout",
          "text": [
            "b. Cac phan tu chan trong day a, b: \n",
            "+ Day a: [120 183 160 175 145 162 190 160 152 162]\n",
            "  - Loc chan: [ True False  True False False  True  True  True  True  True]\n",
            "  - Day chua phan tu chan trong a: [120 160 162 190 160 152 162], so luong 7 phan tu.\n",
            "+ Day x: [ 1  2  3  4  5  6  7  8  9 10]\n",
            "  - Loc chan: [False  True False  True False  True False  True False  True]\n",
            "  - Day chua phan tu chan trong a: [ 2  4  6  8 10], so luong 5 phan tu.\n"
          ]
        }
      ],
      "source": [
        "# b. Cac phan tu chan trong day a, b\n",
        "a_la_chan = (a % 2 == 0)        # Mặt nạ True/False cho a\n",
        "a_chan = a[a_la_chan]           # Lấy các phần tử chẵn của a\n",
        "n_a_chan = len(a_chan)          # Đếm số phần tử chẵn\n",
        "\n",
        "x_la_chan = (x % 2 == 0)        # Mặt nạ True/False cho x\n",
        "x_chan = x[x_la_chan]           # Lấy các phần tử chẵn của x\n",
        "n_x_chan = len(x_chan)          # Đếm số phần tử chẵn\n",
        "\n",
        "print( \"b. Cac phan tu chan trong day a, b: \")\n",
        "print(f\"+ Day a: {a}\")\n",
        "print(f\"  - Loc chan: {a_la_chan}\")\n",
        "print(f\"  - Day chua phan tu chan trong a: {a_chan}, so luong {n_a_chan} phan tu.\")\n",
        "print(f\"+ Day x: {x}\")\n",
        "print(f\"  - Loc chan: {x_la_chan}\")\n",
        "print(f\"  - Day chua phan tu chan trong a: {x_chan}, so luong {n_x_chan} phan tu.\")"
      ]
    },
    {
      "cell_type": "code",
      "execution_count": 8,
      "id": "1d441e53-26ad-45ff-a6d4-6abbb9c66f65",
      "metadata": {
        "id": "1d441e53-26ad-45ff-a6d4-6abbb9c66f65",
        "outputId": "bcbff8cb-0b62-4258-9faa-60497de689c6",
        "colab": {
          "base_uri": "https://localhost:8080/"
        }
      },
      "outputs": [
        {
          "output_type": "stream",
          "name": "stdout",
          "text": [
            "c.Tính hiệu các phần tử ở vị trí lẻ của mảng a và x: \n",
            "+ Vi tri le trong a va x: [1, 3, 5, 7, 9]\n",
            "+ Day so a: [120 183 160 175 145 162 190 160 152 162] va cac so o vi tri le: [183 175 162 160 162]\n",
            "+ Day so x: [ 1  2  3  4  5  6  7  8  9 10] va cac so o vi tri le: [ 2  4  6  8 10]\n",
            "+ Hieu cua a va x o vi tri le: [181 171 156 152 152]\n",
            "+ Khoang cach cac phan tu cua a va x o vi tri le:  364.07\n"
          ]
        }
      ],
      "source": [
        "# c. Tính hiệu các phần tử ở vị trí lẻ của mảng a và x\n",
        "v_le = list(range(1, len(a), 2))   # Vị trí lẻ (index 1,3,5,...)\n",
        "a_le = a[v_le]                     # Các phần tử ở vị trí lẻ trong a\n",
        "x_le = x[v_le]                     # Các phần tử ở vị trí lẻ trong x\n",
        "\n",
        "hieu_le = a_le - x_le              # Hiệu phần tử tương ứng\n",
        "kc_le = np.linalg.norm(hieu_le)    # Khoảng cách (chuẩn Euclid)\n",
        "\n",
        "print( \"c.Tính hiệu các phần tử ở vị trí lẻ của mảng a và x: \")\n",
        "print(f\"+ Vi tri le trong a va x: {v_le}\")\n",
        "print(f\"+ Day so a: {a} va cac so o vi tri le: {a_le}\")\n",
        "print(f\"+ Day so x: {x} va cac so o vi tri le: {x_le}\")\n",
        "print(f\"+ Hieu cua a va x o vi tri le: {hieu_le}\")\n",
        "print(f\"+ Khoang cach cac phan tu cua a va x o vi tri le: {kc_le: .2f}\")"
      ]
    },
    {
      "cell_type": "code",
      "execution_count": 9,
      "id": "92f5e91d-e213-4146-b873-0d2936c6990e",
      "metadata": {
        "id": "92f5e91d-e213-4146-b873-0d2936c6990e",
        "outputId": "83417b4d-0ce7-4a38-93c6-20e205417acb",
        "colab": {
          "base_uri": "https://localhost:8080/"
        }
      },
      "outputs": [
        {
          "output_type": "stream",
          "name": "stdout",
          "text": [
            "d. Tìm khoảng cách nhỏ nhất giữa tập a và x. Ví dụ: min({1, 3, 5}, {2, 10, 8}} = 1\n",
            "+ Day a: [120 183 160 175 145 162 190 160 152 162]\n",
            "+ Day x: [ 1  2  3  4  5  6  7  8  9 10]\n",
            "+ Khoang cach nho nhat: 110\n"
          ]
        }
      ],
      "source": [
        "print(\"d. Tìm khoảng cách nhỏ nhất giữa tập a và x. Ví dụ: min({1, 3, 5}, {2, 10, 8}} = 1\")\n",
        "\"\"\"\n",
        "Gợi ý: Áp dụng toán tử broatcasting\n",
        "[[1],                    [[1, 1, 1],        [[2, 10, 8],    =   [[-1, -9, -7],\n",
        " [3],   - [2, 10, 8] =    [3, 3, 3],   -     [2, 10, 8],         [ 1, -7, -5],  --> np.min(np.abs(...)) = 1\n",
        " [5]]                     [5, 5, 5]]         [2, 10, 8]]         [ 3, -5, -3]]\n",
        "\"\"\"\n",
        "# Broadcasting: tạo ma trận hiệu |a[i] - x[j]|\n",
        "khoang_cach = np.abs(a[:, np.newaxis] - x)\n",
        "\n",
        "# Tìm giá trị nhỏ nhất\n",
        "v_min = np.min(khoang_cach)\n",
        "\n",
        "print(f\"+ Day a: {a}\")\n",
        "print(f\"+ Day x: {x}\")\n",
        "print(f\"+ Khoang cach nho nhat: {v_min}\")"
      ]
    },
    {
      "cell_type": "markdown",
      "id": "d18845b8-0d51-4666-ba1c-5ff836ef3d54",
      "metadata": {
        "id": "d18845b8-0d51-4666-ba1c-5ff836ef3d54"
      },
      "source": [
        "#### 4. Sinh ngẫu nhiên dãy số\n",
        "(a) Sinh ngẫu nhiên dãy số có 100 phần tử theo phân bố đều với giá trị trong đoạn [1, 10] và vẽ đồ thị tần số xuất hiện <br/>\n",
        "(b) Sinh ngẫu nhiên N diem (x, y) với y là hàm phân phối chuẩn $N(\\mu = 1, \\sigma^2 = 1.0)$: <br/>\n",
        " $$\n",
        " y = f\\left(x| \\mu, \\sigma\\right) = \\frac{1}{\\sigma\\sqrt{2\\pi}}exp\\left(-\\frac{\\left(x - \\mu\\right)^2}{2\\sigma^2}\\right)\n",
        " $$\n",
        " nơi mà $x \\in [\\mu - 5\\sigma, \\mu + 5\\sigma]$ <br/>\n",
        " (c) Sinh ngẫu nhiên dãy số có 100000 phần tử theo phân bố chuẩn $N(\\mu = 1, \\sigma^2 = 1.0)$ và vẽ đồ thị tần số xuất hiện <br/> <br/>"
      ]
    },
    {
      "cell_type": "code",
      "execution_count": 10,
      "id": "4d35cd9c-3163-486e-baef-63180ff2f5b6",
      "metadata": {
        "id": "4d35cd9c-3163-486e-baef-63180ff2f5b6",
        "outputId": "62d31457-9c5e-4e5f-cb7c-570a06227f47",
        "colab": {
          "base_uri": "https://localhost:8080/",
          "height": 591
        }
      },
      "outputs": [
        {
          "output_type": "stream",
          "name": "stdout",
          "text": [
            "a. Sinh ngẫu nhiên theo phân bố đều\n",
            "+ Gia tri: [ 1  2  3  4  5  6  7  8  9 10]\n",
            "+ So lan xuat hien: [ 990  978 1030 1006 1007 1000 1017  987  945 1040]\n",
            "+ Do thi ham so xuat hien\n"
          ]
        },
        {
          "output_type": "display_data",
          "data": {
            "text/plain": [
              "<Figure size 600x600 with 1 Axes>"
            ],
            "image/png": "[encoded data removed]"
          },
          "metadata": {}
        }
      ],
      "source": [
        "import matplotlib.pyplot as plt  # Khai báo thư viện pyplot trong matplotlib\n",
        "\n",
        "# Sinh ngẫu nhiên 10,000 số nguyên từ 1 đến 10 (phân bố đều)\n",
        "a = np.random.randint(1, 11, 10000)\n",
        "\n",
        "# Lấy các giá trị duy nhất và số lần xuất hiện\n",
        "value, cnt = np.unique(a, return_counts=True)\n",
        "\n",
        "print(\"a. Sinh ngẫu nhiên theo phân bố đều\")\n",
        "print(f\"+ Gia tri: {value}\")\n",
        "print(f\"+ So lan xuat hien: {cnt}\")\n",
        "print(\"+ Do thi ham so xuat hien\")\n",
        "plt.figure(figsize=(6,6))      #  kich thuoc ban ve\n",
        "plt.bar(value, cnt)            #  ve cac khoi chu nhat theo day x, y\n",
        "plt.xlim(0, 11)                #  gioi han truc x\n",
        "plt.ylim(0, np.max(cnt) + 10)  #  gioi han truc y\n",
        "plt.savefig(\"4a.png\")          #  luu do thi\n",
        "plt.show()                     #  hien thi do thi"
      ]
    },
    {
      "cell_type": "code",
      "execution_count": 12,
      "id": "55c99911-a213-4961-85b7-2ef09b775945",
      "metadata": {
        "id": "55c99911-a213-4961-85b7-2ef09b775945",
        "outputId": "f41398ec-42f8-494e-b109-6e84e63900cd",
        "colab": {
          "base_uri": "https://localhost:8080/",
          "height": 574
        }
      },
      "outputs": [
        {
          "output_type": "stream",
          "name": "stdout",
          "text": [
            "b. Sinh cặp (x, y) với y làm hàm phân phối chuẩn\n",
            "+ x: -4.0 <= min [-4.00] <= max [ 6.00] <= 6.0\n",
            "+ Ve ham so y(x)\n"
          ]
        },
        {
          "output_type": "display_data",
          "data": {
            "text/plain": [
              "<Figure size 600x600 with 1 Axes>"
            ],
            "image/png": "[encoded data removed]"
          },
          "metadata": {}
        }
      ],
      "source": [
        "\n",
        "\n",
        "# Tham số phân phối chuẩn\n",
        "m = 0      # trung bình\n",
        "s = 1      # độ lệch chuẩn\n",
        "N = 5000   # số lượng mẫu\n",
        "\n",
        "# Sinh ngẫu nhiên x trong khoảng [a, b]\n",
        "x_min, x_max = -4.0, 6.0\n",
        "x = np.random.rand(N) * (x_max - x_min) + x_min\n",
        "\n",
        "# Tính hàm mật độ chuẩn\n",
        "y = 1/(s*np.sqrt(2*np.pi)) * np.exp(-((x - m)**2) / (2*s**2))\n",
        "\n",
        "print(\"b. Sinh cặp (x, y) với y làm hàm phân phối chuẩn\")\n",
        "print(f\"+ x: {x_min} <= min [{np.min(x): .2f}] <= max [{np.max(x): .2f}] <= {x_max}\")\n",
        "print(f\"+ Ve ham so y(x)\")\n",
        "plt.figure(figsize=(6,6))      # kich thuoc ban ve\n",
        "plt.scatter(x, y)              # ve cac diem (xi, yi)\n",
        "plt.savefig(\"4b.png\")          #  luu do thi\n",
        "plt.show()                     #  hien thi do thi"
      ]
    },
    {
      "cell_type": "code",
      "execution_count": 13,
      "id": "0b4cf743-6afa-47da-8d3e-61f84623c707",
      "metadata": {
        "id": "0b4cf743-6afa-47da-8d3e-61f84623c707",
        "outputId": "43231aea-8d94-4f11-b414-6f66cb263b28",
        "colab": {
          "base_uri": "https://localhost:8080/",
          "height": 574
        }
      },
      "outputs": [
        {
          "output_type": "stream",
          "name": "stdout",
          "text": [
            "c. Sinh day so theo phan phoi chuan\n",
            "+ x: len = 100000, min [-4.52093762437613], max [4.728347013839235]\n",
            "+ Mat so xac suat cua day so x\n"
          ]
        },
        {
          "output_type": "display_data",
          "data": {
            "text/plain": [
              "<Figure size 600x600 with 1 Axes>"
            ],
            "image/png": "[encoded data removed]"
          },
          "metadata": {}
        }
      ],
      "source": [
        "import numpy as np\n",
        "import matplotlib.pyplot as plt\n",
        "\n",
        "# Tham số phân phối chuẩn\n",
        "m = 0      # trung bình\n",
        "s = 1      # độ lệch chuẩn\n",
        "N = 100000 # số mẫu\n",
        "\n",
        "# Sinh dãy số theo phân phối chuẩn N(m, s^2)\n",
        "x = m + np.random.randn(N) * s\n",
        "\n",
        "# Tính histogram (mật độ xác suất)\n",
        "cnt, val = np.histogram(x, bins=300, density=True)\n",
        "\n",
        "# Tọa độ trục x tại tâm của các bins\n",
        "val = (val[:-1] + val[1:]) / 2\n",
        "# ...\n",
        "\n",
        "print( \"c. Sinh day so theo phan phoi chuan\")\n",
        "print(f\"+ x: len = {len(x)}, min [{np.min(x)}], max [{np.max(x)}]\")\n",
        "print(f\"+ Mat so xac suat cua day so x\")\n",
        "plt.figure(figsize=(6,6))      # kich thuoc ban ve\n",
        "plt.xlim(np.min(val), np.max(val))\n",
        "plt.scatter(val, cnt)\n",
        "plt.show()"
      ]
    },
    {
      "cell_type": "markdown",
      "id": "4f1a6dde-3e75-4dc7-8bab-40b7b9e17091",
      "metadata": {
        "id": "4f1a6dde-3e75-4dc7-8bab-40b7b9e17091"
      },
      "source": [
        "### Bài 2. Tính toán trên ma trận"
      ]
    },
    {
      "cell_type": "markdown",
      "id": "8ce5c9f7-de68-44cf-a1ce-950822c408d3",
      "metadata": {
        "id": "8ce5c9f7-de68-44cf-a1ce-950822c408d3"
      },
      "source": [
        "#### 1. Tạo ma trận a có M = 6 dòng, N = 4 cột"
      ]
    },
    {
      "cell_type": "code",
      "execution_count": 14,
      "id": "17b1f09d-11c7-4711-8b40-f67abd54323e",
      "metadata": {
        "id": "17b1f09d-11c7-4711-8b40-f67abd54323e",
        "outputId": "dcd49df4-fc89-474e-d851-2694912dff36",
        "colab": {
          "base_uri": "https://localhost:8080/"
        }
      },
      "outputs": [
        {
          "output_type": "stream",
          "name": "stdout",
          "text": [
            "Ma trận a: \n",
            " [[112 156 145 128]\n",
            " [131 165 100 121]\n",
            " [155 199 162 106]\n",
            " [132 148 150 133]\n",
            " [125 170 137 178]\n",
            " [145 191 110 115]]\n",
            "\n",
            "Tổng theo hàng: [541 517 622 563 610 561]\n",
            "Tổng theo cột: [ 800 1029  804  781]\n",
            "Ma trận a: \n",
            " [[112 156 145 128]\n",
            " [131 165 100 121]\n",
            " [155 199 162 106]\n",
            " [132 148 150 133]\n",
            " [125 170 137 178]\n",
            " [145 191 110 115]]\n"
          ]
        }
      ],
      "source": [
        "a = np.random.randint(100, 200, (6, 4))\n",
        "print(\"Ma trận a: \\n\", a)\n",
        "\n",
        "# Tính tổng từng hàng\n",
        "row_sum = np.sum(a, axis=1)\n",
        "print(\"\\nTổng theo hàng:\", row_sum)\n",
        "\n",
        "# Tính tổng từng cột\n",
        "col_sum = np.sum(a, axis=0)\n",
        "print(\"Tổng theo cột:\", col_sum)\n",
        "print(\"Ma trận a: \\n\", a)"
      ]
    },
    {
      "cell_type": "markdown",
      "id": "8bc353b9-1740-4e94-b779-eae046171142",
      "metadata": {
        "id": "8bc353b9-1740-4e94-b779-eae046171142"
      },
      "source": [
        "#### 2. Các thao tác trên ma trận a\n",
        "(a) In ra ma trận chuyển vị <br/>\n",
        "(b) In ra phần tử ở vị trí dòng 2 cột 3 <br/>\n",
        "(c) Trích xuất dòng đầu, dòng cuối, dòng 2 <br/>\n",
        "(d) Trích xuất cột kế cuối, cột đầu <br/>\n",
        "(e) Đảo các giá trị trên từng cột <br/>\n",
        "(f) Tính tổng các dòng, trung bình các cột <br/>"
      ]
    },
    {
      "cell_type": "code",
      "execution_count": 15,
      "id": "5236b916-3dda-4444-8004-9a6ab8d80df4",
      "metadata": {
        "id": "5236b916-3dda-4444-8004-9a6ab8d80df4",
        "outputId": "dc00f57f-7880-4e7b-a487-f5a7269e0ee5",
        "colab": {
          "base_uri": "https://localhost:8080/"
        }
      },
      "outputs": [
        {
          "output_type": "stream",
          "name": "stdout",
          "text": [
            "a. In ra ma trận chuyển vị: \n",
            "[[108 117 114 195 125 134]\n",
            " [137 129 157 165 153 137]\n",
            " [119 173 159 162 126 181]\n",
            " [192 104 101 110 116 143]]\n",
            "\n",
            "b. In ra phần tử ở vị trí dòng 2 cột 3: 101\n",
            "\n",
            "c. Trích xuất các dòng: \n",
            "   + Dòng đầu : [108 137 119 192]\n",
            "   + Dòng cuối: [134 137 181 143]\n",
            "   + Dòng hai : [114 157 159 101]\n",
            "\n",
            "d. Trích xuất các cột: \n",
            "   + Cột kế cuối: [119 173 159 162 126 181]\n",
            "   + Cột đầu: [108 117 114 195 125 134]\n",
            "\n",
            "e. Đảo các giá trị trên từng cột: \n",
            " [[134 137 181 143]\n",
            " [125 153 126 116]\n",
            " [195 165 162 110]\n",
            " [114 157 159 101]\n",
            " [117 129 173 104]\n",
            " [108 137 119 192]]\n",
            "\n",
            "f. Phép tính theo trục:\n",
            "   + Tổng dòng: [556 523 531 632 520 595]\n",
            "   + Trung bình cột: [132.16666667 146.33333333 153.33333333 127.66666667]\n"
          ]
        }
      ],
      "source": [
        "a = np.random.randint(100, 200, (6, 4))\n",
        "a_t = a.T\n",
        "v_23 = a[2, 3]\n",
        "d_0 = a[0]        # dòng đầu\n",
        "d_last = a[-1]    # dòng cuối\n",
        "d_2 = a[2]        # dòng thứ 2\n",
        "c_l1 = a[:, -2]   # cột kế cuối\n",
        "c_0 = a[:, 0]     # cột đầu\n",
        "dao_cot = np.flip(a, axis=0)\n",
        "tong_dong = np.sum(a, axis=1)   # tổng theo hàng\n",
        "tb_cot = np.mean(a, axis=0)     # trung bình theo cộ\n",
        "\n",
        "print(f\"a. In ra ma trận chuyển vị: \\n{a_t}\")\n",
        "print(f\"\\nb. In ra phần tử ở vị trí dòng 2 cột 3: {v_23}\")\n",
        "print(f\"\\nc. Trích xuất các dòng: \")\n",
        "print(f\"   + Dòng đầu : {d_0}\")\n",
        "print(f\"   + Dòng cuối: {d_last}\")\n",
        "print(f\"   + Dòng hai : {d_2}\")\n",
        "print(f\"\\nd. Trích xuất các cột: \")\n",
        "print(f\"   + Cột kế cuối: {c_l1}\")\n",
        "print(f\"   + Cột đầu: {c_0}\")\n",
        "print(f\"\\ne. Đảo các giá trị trên từng cột: \\n {dao_cot}\")\n",
        "print(f\"\\nf. Phép tính theo trục:\")\n",
        "print(f\"   + Tổng dòng: {tong_dong}\")\n",
        "print(f\"   + Trung bình cột: {tb_cot}\")"
      ]
    },
    {
      "cell_type": "markdown",
      "id": "bca46803-13a7-4324-b719-0bffd7110119",
      "metadata": {
        "id": "bca46803-13a7-4324-b719-0bffd7110119"
      },
      "source": [
        "#### 3. Các toán tử trên hai ma trận\n",
        "(a) Tạo hai ma trận A và B có 4 dòng x 3 cột và X có 3 dòng x 4 cột <br/>\n",
        "(b) Tính tổng, hiệu, tích của từng phần tử trên hai ma trận A và B <br/>\n",
        "(c) Tính phép nhân ma trận Y = A x X"
      ]
    },
    {
      "cell_type": "code",
      "execution_count": 17,
      "id": "86d9c4ed-e86c-4baf-b51b-9dbd20e5c3cb",
      "metadata": {
        "id": "86d9c4ed-e86c-4baf-b51b-9dbd20e5c3cb",
        "outputId": "a0cf3798-088f-4047-a5f6-85e750abd330",
        "colab": {
          "base_uri": "https://localhost:8080/"
        }
      },
      "outputs": [
        {
          "output_type": "stream",
          "name": "stdout",
          "text": [
            "a. Tạo hai ma trận A và B có 4 dòng x 3 cột và X có 3 dòng x 4 cột\n",
            "+ Ma tran A: \n",
            "[[2 3 3]\n",
            " [2 3 2]\n",
            " [4 2 2]\n",
            " [1 2 5]]\n",
            "+ Ma tran B: \n",
            "[[4 4 4]\n",
            " [4 4 3]\n",
            " [5 3 1]\n",
            " [1 2 4]]\n",
            "+ Ma tran X: \n",
            "[[5 4 1 4]\n",
            " [3 4 1 2]\n",
            " [3 2 4 4]]\n",
            "\n",
            "b. Tính tổng, hiệu, tích của từng phần tử trên hai ma trận A và B\n",
            "A + B = \n",
            "[[6 7 7]\n",
            " [6 7 5]\n",
            " [9 5 3]\n",
            " [2 4 9]]\n",
            "A - B = \n",
            "[[-2 -1 -1]\n",
            " [-2 -1 -1]\n",
            " [-1 -1  1]\n",
            " [ 0  0  1]]\n",
            "A . B = \n",
            "[[ 8 12 12]\n",
            " [ 8 12  6]\n",
            " [20  6  2]\n",
            " [ 1  4 20]]\n",
            "\n",
            "c. Tính phép nhân ma trận Y = A x X\n",
            "Y = A x X --> shape A ((4, 3)) x shape X ((3, 4)) = shape Y ((4, 4)) \n",
            "[[28 26 17 26]\n",
            " [25 24 13 22]\n",
            " [32 28 14 28]\n",
            " [26 22 23 28]]\n"
          ]
        }
      ],
      "source": [
        " #a. Tạo ma trận A, B, X\n",
        "A = np.array([[2, 3, 3],\n",
        "              [2, 3, 2],\n",
        "              [4, 2, 2],\n",
        "              [1, 2, 5]])\n",
        "\n",
        "B = np.array([[4, 4, 4],\n",
        "              [4, 4, 3],\n",
        "              [5, 3, 1],\n",
        "              [1, 2, 4]])\n",
        "\n",
        "X = np.array([[5, 4, 1, 4],\n",
        "              [3, 4, 1, 2],\n",
        "              [3, 2, 4, 4]])\n",
        "# b. Tính tổng, hiệu, tích từng phần tử của A và B\n",
        "AB_add = A + B\n",
        "AB_sub = A - B\n",
        "AB_mul = A * B   # nhân từng phần tử\n",
        "# c. Tính phép nhân ma trận Y = A x X\n",
        "Y = np.dot(A, X)  # hoặc A @ X\n",
        "\n",
        "print(\"a. Tạo hai ma trận A và B có 4 dòng x 3 cột và X có 3 dòng x 4 cột\")\n",
        "print(f\"+ Ma tran A: \\n{A}\")\n",
        "print(f\"+ Ma tran B: \\n{B}\")\n",
        "print(f\"+ Ma tran X: \\n{X}\")\n",
        "\n",
        "print(\"\\nb. Tính tổng, hiệu, tích của từng phần tử trên hai ma trận A và B\")\n",
        "print(f\"A + B = \\n{AB_add}\")\n",
        "print(f\"A - B = \\n{AB_sub}\")\n",
        "print(f\"A . B = \\n{AB_mul}\")\n",
        "\n",
        "print(\"\\nc. Tính phép nhân ma trận Y = A x X\")\n",
        "print(f\"Y = A x X --> shape A ({A.shape}) x shape X ({X.shape}) = shape Y ({Y.shape}) \\n{Y}\")"
      ]
    },
    {
      "cell_type": "markdown",
      "id": "43602379-f77d-44ba-b2e3-23f85c6bcf5a",
      "metadata": {
        "id": "43602379-f77d-44ba-b2e3-23f85c6bcf5a"
      },
      "source": [
        "#### 4. Giải hệ phương trình tuyến tính\n",
        "Giải hệ phương trình tuyến tính sau:\n",
        "$$\n",
        "\\left\\{\\begin{matrix}\n",
        "        4x_1  + 3x_2 - 5x_3 = 2 \\\\\n",
        "        -2x_1 - 4x_2 + 5x_3 = 5 \\\\\n",
        "        8x_1 + 8x_2 = -3 \\\\\n",
        "\\end{matrix}\\right.\n",
        "$$"
      ]
    },
    {
      "cell_type": "code",
      "execution_count": 20,
      "id": "53db2e93-fcbe-49f6-a4dd-482d22bcda54",
      "metadata": {
        "id": "53db2e93-fcbe-49f6-a4dd-482d22bcda54",
        "outputId": "9995d78b-7eea-4ae7-d170-5dc01cf7e3c5",
        "colab": {
          "base_uri": "https://localhost:8080/"
        }
      },
      "outputs": [
        {
          "output_type": "stream",
          "name": "stdout",
          "text": [
            "+ Ma tran A: \n",
            "[[2 3 3]\n",
            " [2 3 2]\n",
            " [4 2 2]\n",
            " [1 2 5]]\n",
            "+ Vector y: [1 2 3 4]\n",
            "+ Nghiem x: [ 0.60415315 -0.58273848  0.85723556]\n",
            "+ Kiem tra: yy = Ax = [2.03179753 1.17456197 2.96560675 3.72485399] ==> ||yy -y ||_2 =  1.35\n"
          ]
        }
      ],
      "source": [
        "# a. Tạo ma trận A (4x3) và vector y (4x1)\n",
        "A = np.array([[2, 3, 3],\n",
        "              [2, 3, 2],\n",
        "              [4, 2, 2],\n",
        "              [1, 2, 5]])\n",
        "\n",
        "y = np.array([1, 2, 3, 4])\n",
        "\n",
        "# b. Giải hệ phương trình tuyến tính bằng phương pháp tối thiểu bình phương (least squares)\n",
        "# Vì A không phải ma trận vuông, dùng np.linalg.lstsq\n",
        "x, residuals, rank, s = np.linalg.lstsq(A, y, rcond=None)\n",
        "\n",
        "# c. Kiểm tra kết quả\n",
        "yy = A @ x                  # Ax\n",
        "diff = np.linalg.norm(yy - y)  # ||Ax - y||_2\n",
        "\n",
        "print(f\"+ Ma tran A: \\n{A}\")\n",
        "print(f\"+ Vector y: {y}\")\n",
        "print(f\"+ Nghiem x: {x}\")\n",
        "print(f\"+ Kiem tra: yy = Ax = {yy} ==> ||yy -y ||_2 = {diff: .2f}\")"
      ]
    },
    {
      "cell_type": "markdown",
      "id": "526b7e20-beca-4087-9cab-02ccc0a8f856",
      "metadata": {
        "id": "526b7e20-beca-4087-9cab-02ccc0a8f856"
      },
      "source": [
        "## Bài tập áp dụng"
      ]
    },
    {
      "cell_type": "markdown",
      "id": "9ee067fb-2045-4d3e-b504-ff4a8c3dcf37",
      "metadata": {
        "id": "9ee067fb-2045-4d3e-b504-ff4a8c3dcf37"
      },
      "source": [
        "### Bài 3. Tính gần đúng số pi dùng phương pháp Monte Carlo\n",
        "\n",
        "Vẽ một đường tròn $C$ có bán kính $r$ nội tiếp một hình vuông $C$, và đặt ngẫu nhiên $N$ chấm lên hình vuông. Tỉ lệ các chấm nằm trong hình tròn trên tổng số chấm xấp xỉ bằng diện tích của hình tròn chia cho hình vuông như sau:\n",
        "$$\n",
        "\\frac{N_C}{N} \\approx  \\frac{\\mathbb{S}_C}{\\mathbb{S}_N}\n",
        "$$\n",
        "nơi mà $N_C$ là các chấm trong hình tròn, $N$ là tổng số chấm, $\\mathbb{S}_C$ và $\\mathbb{S}_N$ lần lượt là diện tích của hình tròn và hình vuông.\n",
        "$$ \\mathbb{S}_C = \\pi * r^2 $$\n",
        "$$ \\mathbb{S}_N = (2*r)^2 = 4r^2 $$\n",
        "Do đó, công thức trên trở thành:\n",
        "$$\n",
        "\\frac{N_C}{N} \\approx \\frac{\\pi * r^2}{4r^2} = \\frac{\\pi}{4}\n",
        "$$\n",
        "Suy ra, ta có giá trị số $\\pi$ được tính như sau:\n",
        "$$\n",
        "\\pi \\approx \\frac{4N_C}{N}\n",
        "$$\n",
        "\n",
        "Các bạn hãy lập trình tính sấp xỉ số $\\pi$ dùng phương pháp Monte Carlo. Cho biết các sai số với $N = 100$, $N = 10000$, và $N = 1000000$. Vẽ đồ thị minh họa cho chương trình.\n",
        "\n",
        "**Hướng dẫn**: Viết chương trình phát sinh $N$ điểm $(x_i, y_i)$ với $x_i, y_i \\in [-1, -1]$. $(x_i, y_i)$ thuộc hình tròn tâm $(0, 0)$ bán kính 1 nội tiếp hình vuông có tâm tại $(0, 0)$ độ dài cạnh 2 khi và chỉ khi $x_i^2 + y_i^2 <= 1$."
      ]
    },
    {
      "cell_type": "code",
      "execution_count": null,
      "id": "793640f7-4ba5-4d27-9d52-a65f4c25a5b0",
      "metadata": {
        "id": "793640f7-4ba5-4d27-9d52-a65f4c25a5b0",
        "outputId": "0000166b-65f8-4079-c5da-22c40d06b543"
      },
      "outputs": [
        {
          "data": {
            "image/png": "[encoded data removed]",
            "text/plain": [
              "<Figure size 432x432 with 1 Axes>"
            ]
          },
          "metadata": {
            "needs_background": "light"
          },
          "output_type": "display_data"
        }
      ],
      "source": [
        "import matplotlib.pyplot as plt # khai báo thư viện vẽ pyplot\n",
        "import math\n",
        "\n",
        "circle = plt.Circle((0, 0), 1, color='g') # tạo đối tượng vòng tròn\n",
        "\n",
        "fig, ax = plt.subplots(figsize=(6, 6)) # lấy figure và vùng vẽ\n",
        "\n",
        "plt.plot(0, 0, 'o', color=(0.9, 0.9, 1.0), alpha=0.8) # vẽ điểm tại tâm (0,0)\n",
        "ax.add_patch(circle) # thêm vòng tròn vào vùng vẽ\n",
        "\n",
        "x = 0.75; y = math.sqrt(1 - (x ** 2)) # (x = 0.75, y = căn bậc 2 của 1 - x^2)\n",
        "plt.arrow(0, 0, x, y)\n",
        "\n",
        "plt.xlim(-1, 1) # giới hạn trục x\n",
        "plt.ylim(-1, 1) # giới hạn trục y\n",
        "\n",
        "plt.savefig('pi.png') # lưu đồ thị xuống tập tin\n",
        "plt.show()            # hiển thị đồ thị"
      ]
    },
    {
      "cell_type": "code",
      "execution_count": 18,
      "id": "bef335d2-9e51-4fa5-8843-aa1d67a607f0",
      "metadata": {
        "id": "bef335d2-9e51-4fa5-8843-aa1d67a607f0",
        "colab": {
          "base_uri": "https://localhost:8080/"
        },
        "outputId": "14f312b8-09bf-4318-b8c5-994b240f85c1"
      },
      "outputs": [
        {
          "output_type": "stream",
          "name": "stdout",
          "text": [
            "3.13\n"
          ]
        }
      ],
      "source": [
        "def calc_pi_monte_carlo(n=100):\n",
        "    # Sinh n điểm ngẫu nhiên trong [0,1) x [0,1)\n",
        "    x = np.random.rand(n)\n",
        "    y = np.random.rand(n)\n",
        "\n",
        "    # Tính khoảng cách từ (0,0) tới mỗi điểm\n",
        "    distance_squared = x**2 + y**2\n",
        "\n",
        "    # Đếm số điểm nằm trong tứ phần vòng tròn (r=1)\n",
        "    inside_circle = np.sum(distance_squared <= 1)\n",
        "\n",
        "    # Ước lượng pi\n",
        "    pi = 4 * inside_circle / n\n",
        "\n",
        "    return pi\n",
        "\n",
        "# Ví dụ chạy\n",
        "print(calc_pi_monte_carlo(10000))"
      ]
    },
    {
      "cell_type": "code",
      "execution_count": 19,
      "id": "91071758-5957-497b-a5d1-2f2d17df6fae",
      "metadata": {
        "id": "91071758-5957-497b-a5d1-2f2d17df6fae",
        "outputId": "e381bafa-a618-48c9-d6f2-c1ce3a669ef9",
        "colab": {
          "base_uri": "https://localhost:8080/"
        }
      },
      "outputs": [
        {
          "output_type": "stream",
          "name": "stdout",
          "text": [
            "epsilon(n=100):  0.1384073464102067\n",
            "epsilon(n=100):  0.0984073464102071\n",
            "epsilon(n=10000):  0.040407346410206824\n",
            "epsilon(n=10000):  0.000807346410206744\n",
            "epsilon(n=1000000):  -0.0019766535897929316\n",
            "epsilon(n=1000000):  0.001459346410206841\n"
          ]
        }
      ],
      "source": [
        "import math\n",
        "\n",
        "print(\"epsilon(n=100): \", calc_pi_monte_carlo(n = 100) - math.pi)\n",
        "print(\"epsilon(n=100): \", calc_pi_monte_carlo(n = 100) - math.pi)\n",
        "print(\"epsilon(n=10000): \", calc_pi_monte_carlo(n = 10000) - math.pi)\n",
        "print(\"epsilon(n=10000): \", calc_pi_monte_carlo(n = 10000) - math.pi)\n",
        "print(\"epsilon(n=1000000): \", calc_pi_monte_carlo(n = 1000000) - math.pi)\n",
        "print(\"epsilon(n=1000000): \", calc_pi_monte_carlo(n = 1000000) - math.pi)"
      ]
    }
  ],
  "metadata": {
    "kernelspec": {
      "display_name": "Python 3",
      "language": "python",
      "name": "python3"
    },
    "language_info": {
      "codemirror_mode": {
        "name": "ipython",
        "version": 3
      },
      "file_extension": ".py",
      "mimetype": "text/x-python",
      "name": "python",
      "nbconvert_exporter": "python",
      "pygments_lexer": "ipython3",
      "version": "3.8.8"
    },
    "colab": {
      "provenance": []
    }
  },
  "nbformat": 4,
  "nbformat_minor": 5
}