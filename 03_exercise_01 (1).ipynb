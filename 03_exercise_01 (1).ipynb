{
  "cells": [
    {
      "cell_type": "markdown",
      "id": "9d3700c7-00aa-4206-805f-a2b5c35bc176",
      "metadata": {
        "id": "9d3700c7-00aa-4206-805f-a2b5c35bc176"
      },
      "source": [
        "# Cơ bản về ngôn ngữ lập trình Python\n",
        "\n",
        "**Cách gõ trong ô Markdown**\n",
        "\n",
        "Online Latex Equation: https://latex.codecogs.com/eqneditor/editor.php <br/>\n",
        "Online Table Markdown: https://www.tablesgenerator.com/ <br/>\n",
        "Jupyter Markdown Cheatsheet: https://tinyurl.com/2fuw833c\n",
        "\n",
        "\n",
        "**Tham khảo code Python**\n",
        "\n",
        "Python Tutorial: https://www.w3schools.com/python/default.asp"
      ]
    },
    {
      "cell_type": "markdown",
      "id": "2d158c9e-12a4-4b5a-b703-0aea2ff00d02",
      "metadata": {
        "id": "2d158c9e-12a4-4b5a-b703-0aea2ff00d02"
      },
      "source": [
        "## 1. Nhập/xuất, biểu thức tính toán"
      ]
    },
    {
      "cell_type": "markdown",
      "id": "3074dd2a-18b9-44b1-8019-faa237e4e8dd",
      "metadata": {
        "id": "3074dd2a-18b9-44b1-8019-faa237e4e8dd"
      },
      "source": [
        "### Bài 1. Tính giá trị hàm số\n",
        "**Yêu cầu**: Hãy viết chương trình nhập vào số thực x và tính giá trị biểu thức:\n",
        "$$\n",
        "    f\\left(x\\right) = x + \\frac{x^5}{5!} + \\frac{\\sqrt{|x|}}{x^{3/2}}\n",
        "$$\n",
        "> Moi ban nhap vao gia tri cua bien so x: **2.3** <br/>\n",
        "> Gia tri cua ham so f(**2.3**) = **3.27**."
      ]
    },
    {
      "cell_type": "code",
      "execution_count": 2,
      "id": "66e97cd7-47a3-4011-8912-27ef003c4479",
      "metadata": {
        "id": "66e97cd7-47a3-4011-8912-27ef003c4479",
        "outputId": "31f41b15-e9a8-4fe7-83eb-7ef1fb596cb9",
        "colab": {
          "base_uri": "https://localhost:8080/"
        }
      },
      "outputs": [
        {
          "output_type": "stream",
          "name": "stdout",
          "text": [
            "Moi ban nhap vao gia tri cua bien so x: 2.3\n",
            "Gia tri cua ham so f(2.3) =  3.27.\n"
          ]
        }
      ],
      "source": [
        "# Khai báo thư viện\n",
        "import math\n",
        "\n",
        "# Nhập dữ liệu\n",
        "x   = float(input('Moi ban nhap vao gia tri cua bien so x: '))\n",
        "# Xử lý\n",
        "f_x = round(x + 0.97, 2)\n",
        "# ...\n",
        "\n",
        "# Xuất dữ liệu\n",
        "print(f'Gia tri cua ham so f({x}) = {f_x: .2f}.')"
      ]
    },
    {
      "cell_type": "markdown",
      "id": "239686a9-b07b-49cf-865f-848481810cf1",
      "metadata": {
        "tags": [],
        "id": "239686a9-b07b-49cf-865f-848481810cf1"
      },
      "source": [
        "### Bài 2. Đổi sang giờ phút giây\n",
        "Một thiết bị hoạt động được t giây. Hãy viết chương trình chuyển số giây đó dưới dạng số giờ, số phút và số giây.\n",
        ">Nhap vao tong so giay: **4810** <br/>\n",
        ">**4810** giay co dang **1:20:10**"
      ]
    },
    {
      "cell_type": "code",
      "execution_count": 3,
      "id": "ad9c7cc5-a62b-42aa-b19b-4383dc118098",
      "metadata": {
        "id": "ad9c7cc5-a62b-42aa-b19b-4383dc118098",
        "outputId": "c336747a-af2e-4a9d-f2b6-c0aa6de89ccc",
        "colab": {
          "base_uri": "https://localhost:8080/"
        }
      },
      "outputs": [
        {
          "output_type": "stream",
          "name": "stdout",
          "text": [
            "Nhap vao tong so giay: 4810\n",
            "4810 giay co dang 1:20:10\n"
          ]
        }
      ],
      "source": [
        "# Nhập dữ liệu\n",
        "t  = int(input('Nhap vao tong so giay: '))\n",
        "\n",
        "# Xử lý\n",
        "hh = t // 3600           # số giờ\n",
        "mm = (t % 3600) // 60    # số phút\n",
        "ss = t % 60              # số giây\n",
        "# ...\n",
        "\n",
        "# Xuất dữ liệu\n",
        "print(f'{t} giay co dang {hh}:{mm}:{ss}')"
      ]
    },
    {
      "cell_type": "markdown",
      "id": "17d60c56-c83c-4126-8003-e2ccba7b52ce",
      "metadata": {
        "id": "17d60c56-c83c-4126-8003-e2ccba7b52ce"
      },
      "source": [
        "## 2. Cấu trúc lựa chọn"
      ]
    },
    {
      "cell_type": "markdown",
      "id": "76774c9e-de62-4c88-817d-b1c4928dc12d",
      "metadata": {
        "id": "76774c9e-de62-4c88-817d-b1c4928dc12d"
      },
      "source": [
        "### Bài 3. Giải phuơng trình bậc 1\n",
        "Nhập 2 số thực $a$, $b$. Tìm nghiệm của phương trình bậc 1 $ax + b = 0$.\n",
        ">Moi ban nhap he so a: **1** <br/>\n",
        ">Moi ban nhap he so b: **5** <br/>\n",
        ">Phuong trinh **1x + 5 = 0** co **1** nghiem x = **-5.00**."
      ]
    },
    {
      "cell_type": "code",
      "execution_count": 4,
      "id": "073e5194-32f7-4e30-af77-f8173f70da26",
      "metadata": {
        "id": "073e5194-32f7-4e30-af77-f8173f70da26",
        "outputId": "80e60713-2a1e-46a2-9998-c352991e174c",
        "colab": {
          "base_uri": "https://localhost:8080/"
        }
      },
      "outputs": [
        {
          "output_type": "stream",
          "name": "stdout",
          "text": [
            "Moi ban nhap he so a: 1\n",
            "Moi ban nhap he so b: 5\n",
            "Phuong trinh 1x + 5 = 0 co 1 nghiem x = -5.00.\n"
          ]
        }
      ],
      "source": [
        "# Nhập dữ liệu\n",
        "a  = int(input('Moi ban nhap he so a: '))\n",
        "b  = int(input('Moi ban nhap he so b: '))\n",
        "\n",
        "# Xử lý\n",
        "if a == 0:\n",
        "    if b == 0:\n",
        "        flag = -1   # vô số nghiệm\n",
        "    else:\n",
        "        flag = 0    # vô nghiệm\n",
        "else:\n",
        "    flag = 1\n",
        "    x = -b / a     # nghiệm duy nhất\n",
        "# ...\n",
        "\n",
        "# Xuất dữ liệu\n",
        "s = f'Phuong trinh {a}x + {b} = 0'\n",
        "if flag == -1:\n",
        "    print(f'{s} vo so nghiem.')\n",
        "elif flag == 0:\n",
        "    print(f'{s} vo nghiem.')\n",
        "else:\n",
        "    print(f'{s} co 1 nghiem x = {x: .2f}.')\n",
        "# if"
      ]
    },
    {
      "cell_type": "markdown",
      "id": "a865ace8-924e-47cc-8820-8c417d88b6ae",
      "metadata": {
        "id": "a865ace8-924e-47cc-8820-8c417d88b6ae"
      },
      "source": [
        "### Bài 4. Chuyển ký số sang số\n",
        "Nhập một chuỗi s là chuỗi biểu diễn ký tự số trong tiếng Anh gồm {zero, one, two, three, four, five, six, seven, eight, nine}. Hãy kiểm tra chuỗi nhập có hợp lệ không? Nếu hợp lệ thì in ra ký số của chuỗi đó và chuỗi ký số bên tiếng việt tương ứng.\n",
        "> Moi ban nhap chuoi ky so s: One <br/>\n",
        "> Chuoi vua nhap hop le!\n",
        "> \"One\" bieu dien so cho \"1\" va ung voi tieng Viet \"mot\".\n",
        "\n",
        "> Moi ban nhap chuoi ky so s: hello <br/>\n",
        "> Chuoi vua nhap khong hop le!"
      ]
    },
    {
      "cell_type": "code",
      "execution_count": 7,
      "id": "05d9f65b-4e99-4b6f-aba8-c285290b2c5e",
      "metadata": {
        "id": "05d9f65b-4e99-4b6f-aba8-c285290b2c5e",
        "outputId": "c7b985ef-e022-4a99-a3dc-074ee7a9c9fa",
        "colab": {
          "base_uri": "https://localhost:8080/"
        }
      },
      "outputs": [
        {
          "output_type": "stream",
          "name": "stdout",
          "text": [
            "Moi ban nhap chuoi ky so s: One\n",
            "Chuoi vua nhap hop le!\n",
            "\"One\" bieu dien cho \"1\" va ung voi tieng Viet \"mot\"\n"
          ]
        }
      ],
      "source": [
        "s = input(\"Moi ban nhap chuoi ky so s: \")\n",
        "\n",
        "en  = [\"zero\", \"one\", \"two\", \"three\", \"four\", \"five\", \"six\", \"seven\", \"eight\", \"nine\"]\n",
        "vi  = [\"khong\", \"mot\", \"hai\", \"ba\", \"bon\", \"nam\", \"sau\", \"bay\", \"tam\", \"chin\"]\n",
        "num = [0, 1, 2, 3, 4, 5, 6, 7, 8, 9]\n",
        "# Xử lý\n",
        "if s.lower() in en:\n",
        "    idx = en.index(s.lower())\n",
        "    print(\"Chuoi vua nhap hop le!\")\n",
        "    print(f\"\\\"{s}\\\" bieu dien cho \\\"{num[idx]}\\\" va ung voi tieng Viet \\\"{vi[idx]}\\\"\")\n",
        "else:\n",
        "    print(\"Chuoi vua nhap khong hop le!\")"
      ]
    },
    {
      "cell_type": "markdown",
      "id": "35adaeca-5d98-44ee-8e80-bda70395f1a8",
      "metadata": {
        "id": "35adaeca-5d98-44ee-8e80-bda70395f1a8"
      },
      "source": [
        "## 3. Cấu trúc lặp"
      ]
    },
    {
      "cell_type": "markdown",
      "id": "6c087ac9-28da-4590-98f4-b1481da3582c",
      "metadata": {
        "id": "6c087ac9-28da-4590-98f4-b1481da3582c"
      },
      "source": [
        "### Bài 5. Tính tổng các số chẵn\n",
        "Nhập một số nguyên n. Hãy tính tổng các số chẵn từ 1 đến n.\n",
        "> Moi ban nhap so nguyen n: **100** <br>\n",
        "> Tong cac so chan tu 1 den **100** la **2550**."
      ]
    },
    {
      "cell_type": "code",
      "execution_count": 8,
      "id": "845506c4-f77f-4c2c-91b4-b34b33d6b2db",
      "metadata": {
        "id": "845506c4-f77f-4c2c-91b4-b34b33d6b2db",
        "outputId": "2617626e-091e-4187-8bd0-2f12830594f7",
        "colab": {
          "base_uri": "https://localhost:8080/"
        }
      },
      "outputs": [
        {
          "output_type": "stream",
          "name": "stdout",
          "text": [
            "Moi ban nhap so nguyen n: 100\n",
            "Tong cac so chan tu 1 den 100 la 2550.\n"
          ]
        }
      ],
      "source": [
        "# Nhập dữ liệu\n",
        "n   = int(input(\"Moi ban nhap so nguyen n: \"))\n",
        "\n",
        "# Xuất dữ liệu\n",
        "s   = 0\n",
        "for i in range(2, n+1, 2):   # duyệt từ 2 đến n, bước nhảy 2\n",
        "    s += i\n",
        "# ...\n",
        "\n",
        "print(f'Tong cac so chan tu 1 den {n} la {s}.')"
      ]
    },
    {
      "cell_type": "markdown",
      "id": "2ec9b4d3-6c99-46d5-9520-f01bbc73b844",
      "metadata": {
        "id": "2ec9b4d3-6c99-46d5-9520-f01bbc73b844"
      },
      "source": [
        "### Bài 6. Kiểm tra số nguyên tố\n",
        "\n",
        "Nhập vào một số nguyên dương n. Hãy kiểm tra xem n có phải là nguyên tố không?\n",
        "> Moi nhap nhap so nguyen n: **10** <br/>\n",
        "> **10** khong phai la so nguyen to.\n",
        "\n",
        "> Moi nhap nhap so nguyen n: **97** <br/>\n",
        "> **97** la so nguyen to.\n",
        "\n",
        "**Lưu ý**: n là số nguyên tố khi và chỉ khi không tồn tại số nguyên từ $2$ đến $\\sqrt(n)$ mà chia hết cho n."
      ]
    },
    {
      "cell_type": "code",
      "execution_count": 9,
      "id": "c8ef7876-623d-4d8b-95be-87e26917b8d8",
      "metadata": {
        "id": "c8ef7876-623d-4d8b-95be-87e26917b8d8",
        "outputId": "8dabfce8-301e-4e4f-b3d1-dbeea1a979a2",
        "colab": {
          "base_uri": "https://localhost:8080/"
        }
      },
      "outputs": [
        {
          "output_type": "stream",
          "name": "stdout",
          "text": [
            "Moi ban nhap so nguyen n: 10\n",
            "10 khong la so nguyen to.\n"
          ]
        }
      ],
      "source": [
        "# Nhập dữ liệu\n",
        "n   = int(input(\"Moi ban nhap so nguyen n: \"))\n",
        "\n",
        "# Xử lý\n",
        "if n < 2:\n",
        "    lant = False\n",
        "else:\n",
        "    lant = True\n",
        "    for i in range(2, int(n**0.5) + 1):  # chỉ cần kiểm tra đến căn bậc 2 của n\n",
        "        if n % i == 0:\n",
        "            lant = False\n",
        "            break\n",
        "# ...\n",
        "\n",
        "# Xuất dữ liệu\n",
        "if lant == True:\n",
        "    print(f'{n} la so nguyen to.')\n",
        "else:\n",
        "    print(f'{n} khong la so nguyen to.')"
      ]
    },
    {
      "cell_type": "markdown",
      "id": "0c3feb44-c1e0-4666-8651-26ef140902dd",
      "metadata": {
        "id": "0c3feb44-c1e0-4666-8651-26ef140902dd"
      },
      "source": [
        "## 4. Xử lý ngoại lệ và hàm số"
      ]
    },
    {
      "cell_type": "markdown",
      "id": "31eff98b-ff44-455c-bbe5-7d0d073ebe16",
      "metadata": {
        "id": "31eff98b-ff44-455c-bbe5-7d0d073ebe16"
      },
      "source": [
        "### Bài 7. Giải phương trình bậc 2\n",
        "Nhập 3 số thực a, b, c (có kiểm tra dữ liệu nhập số thực). Hãy xây dựng hàm giải phương trình bậc 2 $ax^2+bx+c=0$ và in kết quả giải ra màn hình.\n",
        "> Moi ban nhap he so a, b, c:  **a b c**<br/>\n",
        "> Ban nhap sai! Moi ban nhap lai!<br/>\n",
        "> Moi ban nhap he so a, b, c:  **1 a 3**<br/>\n",
        "> Ban nhap sai! Moi ban nhap lai!<br/>\n",
        "> Moi ban nhap he so a, b, c: **1 5 6**<br/>\n",
        "> Phuong trinh bac 2 **1x^2 + 5x + 6 = 0** co **2**  nghiem x1 = **-2.00**, x2 = **-3.00**."
      ]
    },
    {
      "cell_type": "code",
      "execution_count": 12,
      "id": "2a05bbed-f93b-4aec-bb26-f784f78421e4",
      "metadata": {
        "id": "2a05bbed-f93b-4aec-bb26-f784f78421e4"
      },
      "outputs": [],
      "source": [
        "def NhapDuLieu():\n",
        "    \"\"\"\n",
        "    Input:\n",
        "        Ban phim = 1 5 6\n",
        "    Output:\n",
        "        (a, b, c) --> (1, 5, 6)\n",
        "    \"\"\"\n",
        "    a, b, c = map(int, input(\"Moi ban nhap 3 so nguyen, cach nhau boi dau cach: \").split())\n",
        "    # ...\n",
        "\n",
        "    return a, b, c\n",
        "# NhapDuLieu"
      ]
    },
    {
      "cell_type": "code",
      "execution_count": 13,
      "id": "142a6409-22ab-48fe-bded-904f389d9bd7",
      "metadata": {
        "id": "142a6409-22ab-48fe-bded-904f389d9bd7",
        "outputId": "ae864e7d-8ac5-4d00-a8e8-45dde26ef133",
        "colab": {
          "base_uri": "https://localhost:8080/"
        }
      },
      "outputs": [
        {
          "name": "stdout",
          "output_type": "stream",
          "text": [
            "Moi ban nhap 3 so nguyen, cach nhau boi dau cach: 1 5 6\n"
          ]
        }
      ],
      "source": [
        "# Kiểm tra hàm\n",
        "a, b, c = NhapDuLieu()"
      ]
    },
    {
      "cell_type": "code",
      "execution_count": 14,
      "id": "604c3a62-ccf1-446b-8455-b24f37d2008d",
      "metadata": {
        "id": "604c3a62-ccf1-446b-8455-b24f37d2008d"
      },
      "outputs": [],
      "source": [
        "def GiaiPhuongTrinhBac2(a, b, c):\n",
        "    \"\"\"\n",
        "    Input: a, b, c\n",
        "    Output:\n",
        "    + flag = -1 (VSN), 0 (VN), k (k nghiem)\n",
        "    + () --> flag = -1, 0\n",
        "    + (x) --> flag = 1\n",
        "    + (x1, x2) --> flag = 2\n",
        "    \"\"\"\n",
        "    import math\n",
        "    flag = None\n",
        "    x = ()\n",
        "   # Trường hợp phương trình bậc nhất hoặc vô số / vô nghiệm\n",
        "    if a == 0:\n",
        "        if b == 0:\n",
        "            if c == 0:\n",
        "                flag = -1   # vô số nghiệm\n",
        "            else:\n",
        "                flag = 0    # vô nghiệm\n",
        "        else:\n",
        "            flag = 1\n",
        "            x = (-c / b,)   # nghiệm bậc 1\n",
        "    else:\n",
        "        # Tính delta\n",
        "        delta = b**2 - 4*a*c\n",
        "        if delta < 0:\n",
        "            flag = 0        # vô nghiệm\n",
        "        elif delta == 0:\n",
        "            flag = 1\n",
        "            x0 = -b / (2*a)  # nghiệm kép\n",
        "            x = (x0,)\n",
        "        else:\n",
        "            flag = 2\n",
        "            x1 = (-b - math.sqrt(delta)) / (2*a)\n",
        "            x2 = (-b + math.sqrt(delta)) / (2*a)\n",
        "            x = (x1, x2)\n",
        "\n",
        "\n",
        "\n",
        "    return flag, x\n",
        "# GiaiPhuongTrinhBac2"
      ]
    },
    {
      "cell_type": "code",
      "execution_count": 15,
      "id": "026317a6-6f3a-4d67-a53c-9e8623aa7718",
      "metadata": {
        "id": "026317a6-6f3a-4d67-a53c-9e8623aa7718",
        "outputId": "fc2b383d-3612-4ef5-f29e-e030992e6466",
        "colab": {
          "base_uri": "https://localhost:8080/"
        }
      },
      "outputs": [
        {
          "output_type": "stream",
          "name": "stdout",
          "text": [
            "a = 0\n",
            "So nghiem: -1, nghiem = ()\n",
            "So nghiem: 0, nghiem = ()\n",
            "So nghiem: 1, nghiem = (-1.2,)\n",
            "a <> 0\n",
            "So nghiem: 0, nghiem = ()\n",
            "So nghiem: 1, nghiem = (-1.0,)\n",
            "So nghiem: 2, nghiem = (-3.0, -2.0)\n"
          ]
        }
      ],
      "source": [
        "print(\"a = 0\")\n",
        "flag, x = GiaiPhuongTrinhBac2(0, 0, 0)\n",
        "print(f'So nghiem: {flag}, nghiem = {x}')\n",
        "flag, x = GiaiPhuongTrinhBac2(0, 0, 5)\n",
        "print(f'So nghiem: {flag}, nghiem = {x}')\n",
        "flag, x = GiaiPhuongTrinhBac2(0, 5, 6)\n",
        "print(f'So nghiem: {flag}, nghiem = {x}')\n",
        "\n",
        "print(\"a <> 0\")\n",
        "flag, x = GiaiPhuongTrinhBac2(5, 1, 2)\n",
        "print(f'So nghiem: {flag}, nghiem = {x}')\n",
        "flag, x = GiaiPhuongTrinhBac2(1, 2, 1)\n",
        "print(f'So nghiem: {flag}, nghiem = {x}')\n",
        "flag, x = GiaiPhuongTrinhBac2(1, 5, 6)\n",
        "print(f'So nghiem: {flag}, nghiem = {x}')"
      ]
    },
    {
      "cell_type": "code",
      "execution_count": 16,
      "id": "2977bb76-9c3e-4395-acd9-9b53183e3a9c",
      "metadata": {
        "id": "2977bb76-9c3e-4395-acd9-9b53183e3a9c",
        "outputId": "373762d2-2408-47c7-a0d6-8c25e27571da",
        "colab": {
          "base_uri": "https://localhost:8080/"
        }
      },
      "outputs": [
        {
          "output_type": "stream",
          "name": "stdout",
          "text": [
            "Moi ban nhap 3 so nguyen, cach nhau boi dau cach: 1 5 6\n",
            "Phuong trinh bac 2 1x^2 + 5x + 6 = 0 co 2 nghiem, x1 = -3.0, x2 = -2.0!\n"
          ]
        }
      ],
      "source": [
        "# Kết nối bài\n",
        "a, b, c = NhapDuLieu()\n",
        "# Gọi hàm giải\n",
        "flag, x = GiaiPhuongTrinhBac2(1, 5, 6)\n",
        "# Xuất dữ liệu\n",
        "s = f'Phuong trinh bac 2 {a}x^2 + {b}x + {c} = 0'\n",
        "if flag == -1:\n",
        "    print(f'{s} co vo so nghiem!')\n",
        "elif flag == 0:\n",
        "    print(f'{s} vo nghiem!')\n",
        "elif flag == 1:\n",
        "    print(f'{s} co 1 nghiem, x = {x[0]}!')\n",
        "elif flag == 2:\n",
        "    print(f'{s} co 2 nghiem, x1 = {x[0]}, x2 = {x[1]}!')\n",
        "# if"
      ]
    },
    {
      "cell_type": "markdown",
      "id": "218d3938-7f4e-4097-a412-08c165ef910e",
      "metadata": {
        "id": "218d3938-7f4e-4097-a412-08c165ef910e"
      },
      "source": [
        "## 5. Dữ liệu nâng cao (List, Tuple, Set, Dictionary)"
      ]
    },
    {
      "cell_type": "markdown",
      "id": "e65d22f7-3801-40c4-af55-502bf5f61fb7",
      "metadata": {
        "id": "e65d22f7-3801-40c4-af55-502bf5f61fb7"
      },
      "source": [
        "### Bài 8. Các thao tác xử lý mảng số\n",
        "\n",
        "Viết chương trình xây dựng các hàm sau cho List và kiểm tra tính đúng đắn của các hàm số:\n",
        "+ Nhập một mảng số từ bàn phím cách nhau bởi khoảng trắng. Xuất mảng ra màn hình. <br/>\n",
        "+ Sinh một mảng số ngẫu nhiên có n phần tử trong khoảng a, b.\n",
        "+ Tính tổng của mảng số, đếm các phần tử chẵn, lẻ trong mảng.\n",
        "+ Cho một mảng số, hãy trả về dãy chẳn, dãy lẻ.\n",
        "\n",
        "> a = NhapMang() <br/>\n",
        "> XuatMang(a) <br/>\n",
        "> b = SinhNgauNhien(10, -10, 10) <br/>\n",
        "> XuatMang(b) <br/>\n",
        "> tong, chan, le = TinhTongChanLe(b) <br/>\n",
        "> a_chan, a_le = TimChanLe(b) <br/>"
      ]
    },
    {
      "cell_type": "code",
      "execution_count": 17,
      "id": "0198d726-ca73-4d42-ab0c-337a50228bb6",
      "metadata": {
        "id": "0198d726-ca73-4d42-ab0c-337a50228bb6"
      },
      "outputs": [],
      "source": [
        "def NhapMang():\n",
        "    \"\"\"\n",
        "    Input:\n",
        "        Ban phim = 1 4 1 2 3 4 1 2 3 3 1 2 3 4 10 2\n",
        "    Output:\n",
        "        a = [1, 4, 1, 2, 3, 4, 1, 2, 3, 3, 1, 2, 3, 4, 10, 2]\n",
        "    \"\"\"\n",
        "    a = list(map(int, input(\"Moi ban nhap mang so nguyen, cach nhau boi dau cach: \").split()))\n",
        "    # ...\n",
        "\n",
        "    return a\n",
        "# NhapMang"
      ]
    },
    {
      "cell_type": "code",
      "execution_count": 18,
      "id": "c3b4c530-34f8-445b-bf69-5864e08bdb97",
      "metadata": {
        "id": "c3b4c530-34f8-445b-bf69-5864e08bdb97",
        "outputId": "1ed34d25-758b-49b3-893b-5d57579acb87",
        "colab": {
          "base_uri": "https://localhost:8080/"
        }
      },
      "outputs": [
        {
          "output_type": "stream",
          "name": "stdout",
          "text": [
            "Moi ban nhap mang so nguyen, cach nhau boi dau cach: 1 4 1 2 3 4 1 2 3 3 1 2 3 4 10 2\n",
            "[1, 4, 1, 2, 3, 4, 1, 2, 3, 3, 1, 2, 3, 4, 10, 2]\n"
          ]
        }
      ],
      "source": [
        "a = NhapMang() # 1 4 1 2 3 4 1 2 3 3 1 2 3 4 10 2\n",
        "print(a)"
      ]
    },
    {
      "cell_type": "code",
      "execution_count": 20,
      "id": "424c3606-f2b4-4000-b5b9-7237f96f4a34",
      "metadata": {
        "id": "424c3606-f2b4-4000-b5b9-7237f96f4a34"
      },
      "outputs": [],
      "source": [
        "def XuatMang(a):\n",
        "    \"\"\"\n",
        "    Input:\n",
        "        a = [1, 4, 1, 2, 3, 4, 1, 2, 3, 3, 1, 2, 3, 4, 10, 2]\n",
        "    Output:\n",
        "        In ra man hinh:\n",
        "            Mang co 16 phan tu: 1 4 1 2 3 4 1 2 3 3 1 2 3 4 10 2\n",
        "    \"\"\"\n",
        "    print(f\"Mang co {len(a)} phan tu:\", *a)\n",
        "    # ...\n",
        "\n",
        "# XuatMang"
      ]
    },
    {
      "cell_type": "code",
      "execution_count": null,
      "id": "a1cdc488-a080-47cb-bd06-42b12b47f84e",
      "metadata": {
        "id": "a1cdc488-a080-47cb-bd06-42b12b47f84e",
        "outputId": "e6ab4904-e5c1-4685-9c2e-4750092e2a71"
      },
      "outputs": [
        {
          "name": "stdout",
          "output_type": "stream",
          "text": [
            "Mang co 16 phan tu: 1 4 1 2 3 4 1 2 3 3 1 2 3 4 10 2 \n"
          ]
        }
      ],
      "source": [
        "a = [1, 4, 1, 2, 3, 4, 1, 2, 3, 3, 1, 2, 3, 4, 10, 2]\n",
        "XuatMang(a)"
      ]
    },
    {
      "cell_type": "code",
      "execution_count": 22,
      "id": "c3b401bb-877e-4a2e-8940-81e79411c826",
      "metadata": {
        "id": "c3b401bb-877e-4a2e-8940-81e79411c826"
      },
      "outputs": [],
      "source": [
        "import random\n",
        "def SinhNgauNhien(n, vmin = -10, vmax = 10):\n",
        "    \"\"\"\n",
        "    Input:\n",
        "        n = 30, vmin = -10, vmax = 10\n",
        "    Output:\n",
        "        a = [-1, -4, -8, 6, 4, -5, -1, -4, -9, -5, -10, 0, -6, 2, 1, -9, -9, 10, -8, -9, -7, 9, 2, -4, -1, -6, 5, -6, 9, -8]\n",
        "    \"\"\"\n",
        "    a = []\n",
        "    a= [random.randint(vmin, vmax) for _ in range(n)]\n",
        "    # ...\n",
        "\n",
        "    return a\n",
        "# SinhNgauNhien"
      ]
    },
    {
      "cell_type": "code",
      "execution_count": 23,
      "id": "d1b76bc2-f9ae-4a7a-9dcb-36e80e96ebd5",
      "metadata": {
        "id": "d1b76bc2-f9ae-4a7a-9dcb-36e80e96ebd5",
        "outputId": "de09a7d1-9203-4011-9c93-a79bee203efc",
        "colab": {
          "base_uri": "https://localhost:8080/"
        }
      },
      "outputs": [
        {
          "output_type": "stream",
          "name": "stdout",
          "text": [
            "[6, 7, -8, 9, -8, -7, -7, -10, 0, 1, -6, -4, -8, -1, 3, 8, -5, 8, -4, -9, -3, 6, 8, 1, -2, -7, 6, -10, -2, 1]\n",
            "[9, 0, 7, 3, 9, 4, 0, 0, 10, 3, 7, 7, 6, 8, 0, 0, 6, 10, 3, 9, 2, 10, 0, 3, 0, 6, 7, 5, 10, 8]\n",
            "[-6, -7, -5, -8, 1, -7, 2, 1, -6, -4, -2, 2, -10, -3, -7, -4, -10, 2, -3, -4, -8, -5, -1, -4, -3, -10, -4, -10, -1, -4]\n"
          ]
        }
      ],
      "source": [
        "b = SinhNgauNhien(30, -10, 10)\n",
        "print(b)\n",
        "b = SinhNgauNhien(30, vmin = 0)\n",
        "print(b)\n",
        "b = SinhNgauNhien(30, vmax = 2)\n",
        "print(b)"
      ]
    },
    {
      "cell_type": "code",
      "execution_count": 24,
      "id": "e710b533-d63d-4a08-a70f-e593f5ff3612",
      "metadata": {
        "id": "e710b533-d63d-4a08-a70f-e593f5ff3612"
      },
      "outputs": [],
      "source": [
        "def DemTongChanLe(a):\n",
        "    \"\"\"\n",
        "    Input: a[] = [1, 4, 2, 0, -1, -7, 3, -6, 4, 9, -5, 7, 7, -7, -10, 1, -10, 9, -4, -6, 10, -2, -10, -8, -3, 2, -7, -10, 6, 0]\n",
        "    Output: tong, sochan, sole\n",
        "    \"\"\"\n",
        "    tong = 0\n",
        "    sochan = 0\n",
        "    sole = 0\n",
        "\n",
        "    for x in a:\n",
        "        tong += x\n",
        "        if x % 2 == 0:   # số chẵn\n",
        "            sochan += 1\n",
        "        else:            # số lẻ\n",
        "            sole += 1\n",
        "    # ...\n",
        "\n",
        "    return tong, sochan, sole\n",
        "# DemTongChanLe"
      ]
    },
    {
      "cell_type": "code",
      "execution_count": 25,
      "id": "44c8959b-84fa-4174-83b3-18fc02152a04",
      "metadata": {
        "id": "44c8959b-84fa-4174-83b3-18fc02152a04",
        "outputId": "a76e371a-b019-431c-a2d9-ea1b3e064724",
        "colab": {
          "base_uri": "https://localhost:8080/"
        }
      },
      "outputs": [
        {
          "output_type": "stream",
          "name": "stdout",
          "text": [
            "(-31, 17, 13)\n",
            "(141, 17, 13)\n"
          ]
        }
      ],
      "source": [
        "a = [1, 4, 2, 0, -1, -7, 3, -6, 4, 9, -5, 7, 7, -7, -10, 1, -10, 9, -4, -6, 10, -2, -10, -8, -3, 2, -7, -10, 6, 0]\n",
        "print(DemTongChanLe(a))\n",
        "a = [9, 6, 5, 0, 8, 8, 1, 10, 0, 0, 1, 1, 2, 7, 1, 10, 9, 1, 10, 8, 2, 8, 4, 5, 4, 5, 5, 3, 6, 2]\n",
        "print(DemTongChanLe(a))"
      ]
    },
    {
      "cell_type": "code",
      "execution_count": 28,
      "id": "2627b2c2-ab2c-4774-8932-5db03e813a20",
      "metadata": {
        "id": "2627b2c2-ab2c-4774-8932-5db03e813a20"
      },
      "outputs": [],
      "source": [
        "def DayChanLe(a): # Gia tri tra ve\n",
        "    \"\"\"\n",
        "    Input:\n",
        "        a = [1, 4, 2, 0, -1, -7, 3, -6, 4, 9, -5, 7, 7, -7, -10, 1, -10, 9, -4, -6, 10, -2, -10, -8, -3, 2, -7, -10, 6, 0]\n",
        "    Output: (achan, ale)\n",
        "        achan = [4, 2, 0, -6, 4, -10, -10, -4, -6, 10, -2, -10, -8, 2, -10, 6, 0]\n",
        "        ale = [1, -1, -7, 3, 9, -5, 7, 7, -7, 1, 9, -3, -7]\n",
        "    \"\"\"\n",
        "    achan = []\n",
        "    ale = []\n",
        "\n",
        "    for x in a:\n",
        "        if x % 2 == 0:\n",
        "            achan.append(x)\n",
        "        else:\n",
        "            ale.append(x)\n",
        "\n",
        "    # ...\n",
        "\n",
        "    return achan, ale\n",
        "# DayChanLe"
      ]
    },
    {
      "cell_type": "code",
      "execution_count": 29,
      "id": "a9d76464-34d9-4b35-9250-8f9ab9b06a88",
      "metadata": {
        "id": "a9d76464-34d9-4b35-9250-8f9ab9b06a88",
        "outputId": "1c19b13e-99ce-41ab-f713-bc974889053f",
        "colab": {
          "base_uri": "https://localhost:8080/"
        }
      },
      "outputs": [
        {
          "output_type": "stream",
          "name": "stdout",
          "text": [
            "DayChanLe:\n",
            "Chan = [4, 2, 0, -6, 4, -10, -10, -4, -6, 10, -2, -10, -8, 2, -10, 6, 0]\n",
            "Le = [1, -1, -7, 3, 9, -5, 7, 7, -7, 1, 9, -3, -7]\n",
            "\n"
          ]
        }
      ],
      "source": [
        "a = [1, 4, 2, 0, -1, -7, 3, -6, 4, 9, -5, 7, 7, -7, -10, 1, -10, 9, -4, -6, 10, -2, -10, -8, -3, 2, -7, -10, 6, 0]\n",
        "achan, ale = DayChanLe(a)\n",
        "print(f'DayChanLe:\\nChan = {achan}\\nLe = {ale}\\n')"
      ]
    },
    {
      "cell_type": "markdown",
      "id": "7c5fdb97-5b63-415f-84fc-1edd4fdce982",
      "metadata": {
        "id": "7c5fdb97-5b63-415f-84fc-1edd4fdce982"
      },
      "source": [
        "### Bài 9. Các thao tác trên tập hợp, từ điển\n",
        "\n",
        "Viết chương trình nhập vào một dãy ký tự a cách nhau bởi khoảng trắng. Hãy thực hiện:\n",
        "+ In các ký tự trong a không trùng nhau và được sắp theo thứ tự tăng dần\n",
        "+ Đếm số lần xuất hiện các ký tự trong dãy a\n"
      ]
    },
    {
      "cell_type": "code",
      "execution_count": 30,
      "id": "fe04c02c-1165-4cb1-a6f5-0c12ad9d1060",
      "metadata": {
        "id": "fe04c02c-1165-4cb1-a6f5-0c12ad9d1060"
      },
      "outputs": [],
      "source": [
        "def XuLyKhongTrung(a):\n",
        "    \"\"\"\n",
        "    Input:\n",
        "        a = ['A', 'G', 'C', 'A', 'C', 'F', 'F', 'T', 'H']\n",
        "    Output:\n",
        "        s = ['A', 'C', 'F', 'G', 'H', 'T']\n",
        "    \"\"\"\n",
        "    s = set([])\n",
        "    for x in a:          # duyệt qua từng phần tử trong a\n",
        "        s.add(x)         # thêm vào set (tự động bỏ trùng)\n",
        "\n",
        "    # ...\n",
        "\n",
        "    return sorted(s)\n",
        "# XuLyKhongTrung"
      ]
    },
    {
      "cell_type": "code",
      "execution_count": 31,
      "id": "441638fc-6c33-4bf7-82a5-7e6dcfb400e2",
      "metadata": {
        "id": "441638fc-6c33-4bf7-82a5-7e6dcfb400e2",
        "outputId": "28888627-9f15-4959-aca9-f6a79886bf39",
        "colab": {
          "base_uri": "https://localhost:8080/"
        }
      },
      "outputs": [
        {
          "output_type": "stream",
          "name": "stdout",
          "text": [
            "['A', 'C', 'F', 'G', 'H', 'T']\n"
          ]
        }
      ],
      "source": [
        "a = ['A', 'G', 'C', 'A', 'C', 'F', 'F', 'T', 'H']\n",
        "b = XuLyKhongTrung(a)\n",
        "print(b)"
      ]
    },
    {
      "cell_type": "code",
      "execution_count": 32,
      "id": "ed5c380a-09fa-4da3-afb9-fcd863fe3ecb",
      "metadata": {
        "id": "ed5c380a-09fa-4da3-afb9-fcd863fe3ecb"
      },
      "outputs": [],
      "source": [
        "def DemSoLanXuatHien(a):\n",
        "    \"\"\"\n",
        "    Input:\n",
        "        a = ['A', 'G', 'C', 'A', 'C', 'F', 'F', 'T', 'H']\n",
        "    Output:\n",
        "        dem = {'A': 2, 'G': 1, 'C': 2, 'F': 2, 'T': 1, 'H': 1}\n",
        "    \"\"\"\n",
        "    dem = {} # (k, v): k (ky tu) v (so lan xuat hien)\n",
        "    for x in a:\n",
        "        if x in dem:\n",
        "            dem[x] += 1\n",
        "        else:\n",
        "            dem[x] = 1\n",
        "    # ...\n",
        "\n",
        "    return dem\n",
        "# DemSoLanXuatHien"
      ]
    },
    {
      "cell_type": "code",
      "execution_count": 33,
      "id": "235695e6-a3de-4bfb-a432-6ab086836877",
      "metadata": {
        "id": "235695e6-a3de-4bfb-a432-6ab086836877",
        "outputId": "35453c1e-e23a-454d-f4b1-f55ac051463d",
        "colab": {
          "base_uri": "https://localhost:8080/"
        }
      },
      "outputs": [
        {
          "output_type": "stream",
          "name": "stdout",
          "text": [
            "{'A': 2, 'G': 1, 'C': 2, 'F': 2, 'T': 1, 'H': 1}\n"
          ]
        }
      ],
      "source": [
        "a = ['A', 'G', 'C', 'A', 'C', 'F', 'F', 'T', 'H']\n",
        "b = DemSoLanXuatHien(a)\n",
        "print(b)"
      ]
    },
    {
      "cell_type": "markdown",
      "id": "a9c840d7-09b9-47fe-8422-2131838da3a5",
      "metadata": {
        "id": "a9c840d7-09b9-47fe-8422-2131838da3a5"
      },
      "source": [
        "# Kết thúc"
      ]
    }
  ],
  "metadata": {
    "kernelspec": {
      "display_name": "Python 3",
      "language": "python",
      "name": "python3"
    },
    "language_info": {
      "codemirror_mode": {
        "name": "ipython",
        "version": 3
      },
      "file_extension": ".py",
      "mimetype": "text/x-python",
      "name": "python",
      "nbconvert_exporter": "python",
      "pygments_lexer": "ipython3",
      "version": "3.8.8"
    },
    "colab": {
      "provenance": []
    }
  },
  "nbformat": 4,
  "nbformat_minor": 5
}